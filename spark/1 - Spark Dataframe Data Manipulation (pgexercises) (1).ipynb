{
 "cells": [
  {
   "cell_type": "markdown",
   "metadata": {
    "application/vnd.databricks.v1+cell": {
     "cellMetadata": {},
     "inputWidgets": {},
     "nuid": "53193039-ba28-4c23-92e7-d4109013bb0c",
     "showTitle": false,
     "title": ""
    }
   },
   "source": [
    "# Learning Objectives\n",
    "In this notebook, you will learn Spark Dataframe APIs.\n",
    "\n",
    "# Question List\n",
    "\n",
    "Solve the following questions using Spark Dataframe APIs\n",
    "\n",
    "### Join\n",
    "\n",
    "1. easy - https://pgexercises.com/questions/joins/simplejoin.html\n",
    "2. easy - https://pgexercises.com/questions/joins/simplejoin2.html\n",
    "3. easy - https://pgexercises.com/questions/joins/self2.html \n",
    "4. medium - https://pgexercises.com/questions/joins/threejoin.html (three join)\n",
    "5. medium - https://pgexercises.com/questions/joins/sub.html (subquery and join)\n",
    "\n",
    "### Aggregation\n",
    "\n",
    "1. easy - https://pgexercises.com/questions/aggregates/count3.html Group by order by\n",
    "2. easy - https://pgexercises.com/questions/aggregates/fachours.html group by order by\n",
    "3. easy - https://pgexercises.com/questions/aggregates/fachoursbymonth.html group by with condition \n",
    "4. easy - https://pgexercises.com/questions/aggregates/fachoursbymonth2.html group by multi col\n",
    "5. easy - https://pgexercises.com/questions/aggregates/members1.html count distinct\n",
    "6. med - https://pgexercises.com/questions/aggregates/nbooking.html group by multiple cols, join\n",
    "\n",
    "### String & Date\n",
    "\n",
    "1. easy - https://pgexercises.com/questions/string/concat.html format string\n",
    "2. easy - https://pgexercises.com/questions/string/case.html WHERE + string function\n",
    "3. easy - https://pgexercises.com/questions/string/reg.html WHERE + string function\n",
    "4. easy - https://pgexercises.com/questions/string/substr.html group by, substr\n",
    "5. easy - https://pgexercises.com/questions/date/series.html generate ts\n",
    "6. easy - https://pgexercises.com/questions/date/bookingspermonth.html extract month from ts"
   ]
  },
  {
   "cell_type": "markdown",
   "metadata": {
    "application/vnd.databricks.v1+cell": {
     "cellMetadata": {},
     "inputWidgets": {},
     "nuid": "5af8ed8a-34dc-4766-a62b-cdc1dfd2ec41",
     "showTitle": false,
     "title": ""
    }
   },
   "source": [
    "### JOIN\n",
    "### Question 1\n",
    "\n",
    "How can you produce a list of the start times for bookings by members named 'David Farrell'?\n",
    "\n",
    "https://pgexercises.com/questions/joins/simplejoin.html"
   ]
  },
  {
   "cell_type": "code",
   "execution_count": 0,
   "metadata": {
    "application/vnd.databricks.v1+cell": {
     "cellMetadata": {
      "byteLimit": 2048000,
      "rowLimit": 10000
     },
     "inputWidgets": {},
     "nuid": "cd26e494-0ac0-4d54-b463-563b18d5d371",
     "showTitle": false,
     "title": ""
    }
   },
   "outputs": [
    {
     "output_type": "stream",
     "name": "stdout",
     "output_type": "stream",
     "text": [
      "+-------------------+\n|          starttime|\n+-------------------+\n|2012-09-18 09:00:00|\n|2012-09-18 17:30:00|\n|2012-09-18 13:30:00|\n|2012-09-18 20:00:00|\n|2012-09-19 09:30:00|\n|2012-09-19 15:00:00|\n|2012-09-19 12:00:00|\n|2012-09-20 15:30:00|\n|2012-09-20 11:30:00|\n|2012-09-20 14:00:00|\n|2012-09-21 10:30:00|\n|2012-09-21 14:00:00|\n|2012-09-22 08:30:00|\n|2012-09-22 17:00:00|\n|2012-09-23 08:30:00|\n|2012-09-23 17:30:00|\n|2012-09-23 19:00:00|\n|2012-09-24 08:00:00|\n|2012-09-24 16:30:00|\n|2012-09-24 12:30:00|\n+-------------------+\nonly showing top 20 rows\n\n"
     ]
    }
   ],
   "source": [
    "# Write you solution here\n",
    "# hint: you might need to re-run `0 - ETL pgexercieses CSV files` notebook to init tables\n",
    "\n",
    "bookings_df = spark.sql(\"select * from bookings\")\n",
    "members_df = spark.sql(\"select * from members\")\n",
    "df = bookings_df.join(members_df, bookings_df.memid == members_df.memid,\"inner\")\n",
    "df.filter((df.firstname == 'David') & (df.surname == 'Farrell')).select('starttime').show()"
   ]
  },
  {
   "cell_type": "markdown",
   "metadata": {
    "application/vnd.databricks.v1+cell": {
     "cellMetadata": {},
     "inputWidgets": {},
     "nuid": "ff72e52d-1973-4b94-bc0e-87b1e12b2a54",
     "showTitle": false,
     "title": ""
    }
   },
   "source": [
    "### Question 2\n",
    "How can you produce a list of the start times for bookings for tennis courts, for the date '2012-09-21'? Return a list of start time and facility name pairings, ordered by the time.\n",
    "\n",
    "https://pgexercises.com/questions/joins/simplejoin2.html"
   ]
  },
  {
   "cell_type": "code",
   "execution_count": 0,
   "metadata": {
    "application/vnd.databricks.v1+cell": {
     "cellMetadata": {
      "byteLimit": 2048000,
      "rowLimit": 10000
     },
     "inputWidgets": {},
     "nuid": "9bcb5283-b2a3-4d29-95c0-67dc16cf7e10",
     "showTitle": false,
     "title": ""
    }
   },
   "outputs": [
    {
     "output_type": "stream",
     "name": "stdout",
     "output_type": "stream",
     "text": [
      "+-------------------+--------------+\n|              start|          name|\n+-------------------+--------------+\n|2012-09-21 08:00:00|Tennis Court 1|\n|2012-09-21 08:00:00|Tennis Court 2|\n|2012-09-21 09:30:00|Tennis Court 1|\n|2012-09-21 10:00:00|Tennis Court 2|\n|2012-09-21 11:30:00|Tennis Court 2|\n|2012-09-21 12:00:00|Tennis Court 1|\n|2012-09-21 13:30:00|Tennis Court 1|\n|2012-09-21 14:00:00|Tennis Court 2|\n|2012-09-21 15:30:00|Tennis Court 1|\n|2012-09-21 16:00:00|Tennis Court 2|\n|2012-09-21 17:00:00|Tennis Court 1|\n|2012-09-21 18:00:00|Tennis Court 2|\n+-------------------+--------------+\n\n"
     ]
    }
   ],
   "source": [
    "\n",
    "# Define the SQL query\n",
    "query = \"\"\"\n",
    "SELECT bookings.starttime AS start, facilities.name AS name\n",
    "FROM bookings\n",
    "INNER JOIN facilities \n",
    "ON facilities.facid = bookings.facid\n",
    "WHERE facilities.name IN ('Tennis Court 2', 'Tennis Court 1') \n",
    "AND TO_DATE(bookings.starttime) = '2012-09-21'\n",
    "ORDER BY bookings.starttime\n",
    "\"\"\"\n",
    "\n",
    "# Execute the query\n",
    "df = spark.sql(query)\n",
    "display(df)"
   ]
  },
  {
   "cell_type": "markdown",
   "metadata": {
    "application/vnd.databricks.v1+cell": {
     "cellMetadata": {},
     "inputWidgets": {},
     "nuid": "0637509b-d5ba-4efe-8217-cad4fd22a063",
     "showTitle": false,
     "title": ""
    }
   },
   "source": []
  },
  {
   "cell_type": "markdown",
   "metadata": {
    "application/vnd.databricks.v1+cell": {
     "cellMetadata": {},
     "inputWidgets": {},
     "nuid": "42acea95-3a70-45d0-9ed0-df6510194e13",
     "showTitle": false,
     "title": ""
    }
   },
   "source": [
    "### Question 3\n",
    "How can you output a list of all members, including the individual who recommended them (if any)? Ensure that results are ordered by (surname, firstname).\n",
    "\n",
    "https://pgexercises.com/questions/joins/threejoin.html"
   ]
  },
  {
   "cell_type": "code",
   "execution_count": 0,
   "metadata": {
    "application/vnd.databricks.v1+cell": {
     "cellMetadata": {
      "byteLimit": 2048000,
      "rowLimit": 10000
     },
     "inputWidgets": {},
     "nuid": "2ed8e50c-2be2-464f-a8dc-c9b38e65f744",
     "showTitle": false,
     "title": ""
    }
   },
   "outputs": [
    {
     "output_type": "display_data",
     "data": {
      "text/html": [
       "<style scoped>\n",
       "  .table-result-container {\n",
       "    max-height: 300px;\n",
       "    overflow: auto;\n",
       "  }\n",
       "  table, th, td {\n",
       "    border: 1px solid black;\n",
       "    border-collapse: collapse;\n",
       "  }\n",
       "  th, td {\n",
       "    padding: 5px;\n",
       "  }\n",
       "  th {\n",
       "    text-align: left;\n",
       "  }\n",
       "</style><div class='table-result-container'><table class='table-result'><thead style='background-color: white'><tr><th>memfname</th><th>memsname</th><th>recfname</th><th>recsname</th></tr></thead><tbody><tr><td>Florence</td><td>Bader</td><td>Ponder</td><td>Stibbons</td></tr><tr><td>Anne</td><td>Baker</td><td>Ponder</td><td>Stibbons</td></tr><tr><td>Timothy</td><td>Baker</td><td>Jemima</td><td>Farrell</td></tr><tr><td>Tim</td><td>Boothe</td><td>Tim</td><td>Rownam</td></tr><tr><td>Gerald</td><td>Butters</td><td>Darren</td><td>Smith</td></tr><tr><td>Joan</td><td>Coplin</td><td>Timothy</td><td>Baker</td></tr><tr><td>Erica</td><td>Crumpet</td><td>Tracy</td><td>Smith</td></tr><tr><td>Nancy</td><td>Dare</td><td>Janice</td><td>Joplette</td></tr><tr><td>David</td><td>Farrell</td><td>null</td><td>null</td></tr><tr><td>Jemima</td><td>Farrell</td><td>null</td><td>null</td></tr><tr><td>GUEST</td><td>GUEST</td><td>null</td><td>null</td></tr><tr><td>Matthew</td><td>Genting</td><td>Gerald</td><td>Butters</td></tr><tr><td>John</td><td>Hunt</td><td>Millicent</td><td>Purview</td></tr><tr><td>David</td><td>Jones</td><td>Janice</td><td>Joplette</td></tr><tr><td>Douglas</td><td>Jones</td><td>David</td><td>Jones</td></tr><tr><td>Janice</td><td>Joplette</td><td>Darren</td><td>Smith</td></tr><tr><td>Anna</td><td>Mackenzie</td><td>Darren</td><td>Smith</td></tr><tr><td>Charles</td><td>Owen</td><td>Darren</td><td>Smith</td></tr><tr><td>David</td><td>Pinker</td><td>Jemima</td><td>Farrell</td></tr><tr><td>Millicent</td><td>Purview</td><td>Tracy</td><td>Smith</td></tr><tr><td>Tim</td><td>Rownam</td><td>null</td><td>null</td></tr><tr><td>Henrietta</td><td>Rumney</td><td>Matthew</td><td>Genting</td></tr><tr><td>Ramnaresh</td><td>Sarwin</td><td>Florence</td><td>Bader</td></tr><tr><td>Darren</td><td>Smith</td><td>null</td><td>null</td></tr><tr><td>Darren</td><td>Smith</td><td>null</td><td>null</td></tr><tr><td>Jack</td><td>Smith</td><td>Darren</td><td>Smith</td></tr><tr><td>Tracy</td><td>Smith</td><td>null</td><td>null</td></tr><tr><td>Ponder</td><td>Stibbons</td><td>Burton</td><td>Tracy</td></tr><tr><td>Burton</td><td>Tracy</td><td>null</td><td>null</td></tr><tr><td>Hyacinth</td><td>Tupperware</td><td>null</td><td>null</td></tr><tr><td>Henry</td><td>Worthington-Smyth</td><td>Tracy</td><td>Smith</td></tr></tbody></table></div>"
      ]
     },
     "metadata": {
      "application/vnd.databricks.v1+output": {
       "addedWidgets": {},
       "aggData": [],
       "aggError": "",
       "aggOverflow": false,
       "aggSchema": [],
       "aggSeriesLimitReached": false,
       "aggType": "",
       "arguments": {},
       "columnCustomDisplayInfos": {},
       "data": [
        [
         "Florence",
         "Bader",
         "Ponder",
         "Stibbons"
        ],
        [
         "Anne",
         "Baker",
         "Ponder",
         "Stibbons"
        ],
        [
         "Timothy",
         "Baker",
         "Jemima",
         "Farrell"
        ],
        [
         "Tim",
         "Boothe",
         "Tim",
         "Rownam"
        ],
        [
         "Gerald",
         "Butters",
         "Darren",
         "Smith"
        ],
        [
         "Joan",
         "Coplin",
         "Timothy",
         "Baker"
        ],
        [
         "Erica",
         "Crumpet",
         "Tracy",
         "Smith"
        ],
        [
         "Nancy",
         "Dare",
         "Janice",
         "Joplette"
        ],
        [
         "David",
         "Farrell",
         null,
         null
        ],
        [
         "Jemima",
         "Farrell",
         null,
         null
        ],
        [
         "GUEST",
         "GUEST",
         null,
         null
        ],
        [
         "Matthew",
         "Genting",
         "Gerald",
         "Butters"
        ],
        [
         "John",
         "Hunt",
         "Millicent",
         "Purview"
        ],
        [
         "David",
         "Jones",
         "Janice",
         "Joplette"
        ],
        [
         "Douglas",
         "Jones",
         "David",
         "Jones"
        ],
        [
         "Janice",
         "Joplette",
         "Darren",
         "Smith"
        ],
        [
         "Anna",
         "Mackenzie",
         "Darren",
         "Smith"
        ],
        [
         "Charles",
         "Owen",
         "Darren",
         "Smith"
        ],
        [
         "David",
         "Pinker",
         "Jemima",
         "Farrell"
        ],
        [
         "Millicent",
         "Purview",
         "Tracy",
         "Smith"
        ],
        [
         "Tim",
         "Rownam",
         null,
         null
        ],
        [
         "Henrietta",
         "Rumney",
         "Matthew",
         "Genting"
        ],
        [
         "Ramnaresh",
         "Sarwin",
         "Florence",
         "Bader"
        ],
        [
         "Darren",
         "Smith",
         null,
         null
        ],
        [
         "Darren",
         "Smith",
         null,
         null
        ],
        [
         "Jack",
         "Smith",
         "Darren",
         "Smith"
        ],
        [
         "Tracy",
         "Smith",
         null,
         null
        ],
        [
         "Ponder",
         "Stibbons",
         "Burton",
         "Tracy"
        ],
        [
         "Burton",
         "Tracy",
         null,
         null
        ],
        [
         "Hyacinth",
         "Tupperware",
         null,
         null
        ],
        [
         "Henry",
         "Worthington-Smyth",
         "Tracy",
         "Smith"
        ]
       ],
       "datasetInfos": [],
       "dbfsResultPath": null,
       "isJsonSchema": true,
       "metadata": {},
       "overflow": false,
       "plotOptions": {
        "customPlotOptions": {},
        "displayType": "table",
        "pivotAggregation": null,
        "pivotColumns": null,
        "xColumns": null,
        "yColumns": null
       },
       "removedWidgets": [],
       "schema": [
        {
         "metadata": "{}",
         "name": "memfname",
         "type": "\"string\""
        },
        {
         "metadata": "{}",
         "name": "memsname",
         "type": "\"string\""
        },
        {
         "metadata": "{}",
         "name": "recfname",
         "type": "\"string\""
        },
        {
         "metadata": "{}",
         "name": "recsname",
         "type": "\"string\""
        }
       ],
       "type": "table"
      }
     },
     "output_type": "display_data"
    }
   ],
   "source": [
    "# Define sql query\n",
    "query = \"\"\"\n",
    "select members.firstname as memfname, members.surname as memsname,\n",
    "recommender.firstname as recfname, recommender.surname as recsname\n",
    "from members\n",
    "left join members as recommender\n",
    "on members.recommendedby=recommender.memid\n",
    "order by memsname,memfname\n",
    "\"\"\"\n",
    "# Execute the query\n",
    "df = spark.sql(query)\n",
    "display(df)\n"
   ]
  },
  {
   "cell_type": "markdown",
   "metadata": {
    "application/vnd.databricks.v1+cell": {
     "cellMetadata": {},
     "inputWidgets": {},
     "nuid": "7089a6a9-9ef7-476d-bf7e-a2e07c1d1a16",
     "showTitle": false,
     "title": ""
    }
   },
   "source": [
    "### Question 4\n",
    "How can you produce a list of all members who have used a tennis court? Include in your output the name of the court, and the name of the member formatted as a single column. Ensure no duplicate data, and order by the member name followed by the facility name.\n",
    "\n",
    "https://pgexercises.com/questions/joins/sub.html"
   ]
  },
  {
   "cell_type": "code",
   "execution_count": 0,
   "metadata": {
    "application/vnd.databricks.v1+cell": {
     "cellMetadata": {
      "byteLimit": 2048000,
      "rowLimit": 10000
     },
     "inputWidgets": {},
     "nuid": "fdbace03-4f76-4cd3-acc8-895eb8633da9",
     "showTitle": false,
     "title": ""
    }
   },
   "outputs": [
    {
     "output_type": "display_data",
     "data": {
      "text/html": [
       "<style scoped>\n",
       "  .table-result-container {\n",
       "    max-height: 300px;\n",
       "    overflow: auto;\n",
       "  }\n",
       "  table, th, td {\n",
       "    border: 1px solid black;\n",
       "    border-collapse: collapse;\n",
       "  }\n",
       "  th, td {\n",
       "    padding: 5px;\n",
       "  }\n",
       "  th {\n",
       "    text-align: left;\n",
       "  }\n",
       "</style><div class='table-result-container'><table class='table-result'><thead style='background-color: white'><tr><th>member</th><th>facility</th></tr></thead><tbody><tr><td>Anne Baker</td><td>Tennis Court 1</td></tr><tr><td>Anne Baker</td><td>Tennis Court 2</td></tr><tr><td>Burton Tracy</td><td>Tennis Court 1</td></tr><tr><td>Burton Tracy</td><td>Tennis Court 2</td></tr><tr><td>Charles Owen</td><td>Tennis Court 1</td></tr><tr><td>Charles Owen</td><td>Tennis Court 2</td></tr><tr><td>Darren Smith</td><td>Tennis Court 2</td></tr><tr><td>David Farrell</td><td>Tennis Court 1</td></tr><tr><td>David Farrell</td><td>Tennis Court 2</td></tr><tr><td>David Jones</td><td>Tennis Court 1</td></tr><tr><td>David Jones</td><td>Tennis Court 2</td></tr><tr><td>David Pinker</td><td>Tennis Court 1</td></tr><tr><td>Douglas Jones</td><td>Tennis Court 1</td></tr><tr><td>Erica Crumpet</td><td>Tennis Court 1</td></tr><tr><td>Florence Bader</td><td>Tennis Court 1</td></tr><tr><td>Florence Bader</td><td>Tennis Court 2</td></tr><tr><td>GUEST GUEST</td><td>Tennis Court 1</td></tr><tr><td>GUEST GUEST</td><td>Tennis Court 2</td></tr><tr><td>Gerald Butters</td><td>Tennis Court 1</td></tr><tr><td>Gerald Butters</td><td>Tennis Court 2</td></tr><tr><td>Henrietta Rumney</td><td>Tennis Court 2</td></tr><tr><td>Jack Smith</td><td>Tennis Court 1</td></tr><tr><td>Jack Smith</td><td>Tennis Court 2</td></tr><tr><td>Janice Joplette</td><td>Tennis Court 1</td></tr><tr><td>Janice Joplette</td><td>Tennis Court 2</td></tr><tr><td>Jemima Farrell</td><td>Tennis Court 1</td></tr><tr><td>Jemima Farrell</td><td>Tennis Court 2</td></tr><tr><td>Joan Coplin</td><td>Tennis Court 1</td></tr><tr><td>John Hunt</td><td>Tennis Court 1</td></tr><tr><td>John Hunt</td><td>Tennis Court 2</td></tr><tr><td>Matthew Genting</td><td>Tennis Court 1</td></tr><tr><td>Millicent Purview</td><td>Tennis Court 2</td></tr><tr><td>Nancy Dare</td><td>Tennis Court 1</td></tr><tr><td>Nancy Dare</td><td>Tennis Court 2</td></tr><tr><td>Ponder Stibbons</td><td>Tennis Court 1</td></tr><tr><td>Ponder Stibbons</td><td>Tennis Court 2</td></tr><tr><td>Ramnaresh Sarwin</td><td>Tennis Court 1</td></tr><tr><td>Ramnaresh Sarwin</td><td>Tennis Court 2</td></tr><tr><td>Tim Boothe</td><td>Tennis Court 1</td></tr><tr><td>Tim Boothe</td><td>Tennis Court 2</td></tr><tr><td>Tim Rownam</td><td>Tennis Court 1</td></tr><tr><td>Tim Rownam</td><td>Tennis Court 2</td></tr><tr><td>Timothy Baker</td><td>Tennis Court 1</td></tr><tr><td>Timothy Baker</td><td>Tennis Court 2</td></tr><tr><td>Tracy Smith</td><td>Tennis Court 1</td></tr><tr><td>Tracy Smith</td><td>Tennis Court 2</td></tr></tbody></table></div>"
      ]
     },
     "metadata": {
      "application/vnd.databricks.v1+output": {
       "addedWidgets": {},
       "aggData": [],
       "aggError": "",
       "aggOverflow": false,
       "aggSchema": [],
       "aggSeriesLimitReached": false,
       "aggType": "",
       "arguments": {},
       "columnCustomDisplayInfos": {},
       "data": [
        [
         "Anne Baker",
         "Tennis Court 1"
        ],
        [
         "Anne Baker",
         "Tennis Court 2"
        ],
        [
         "Burton Tracy",
         "Tennis Court 1"
        ],
        [
         "Burton Tracy",
         "Tennis Court 2"
        ],
        [
         "Charles Owen",
         "Tennis Court 1"
        ],
        [
         "Charles Owen",
         "Tennis Court 2"
        ],
        [
         "Darren Smith",
         "Tennis Court 2"
        ],
        [
         "David Farrell",
         "Tennis Court 1"
        ],
        [
         "David Farrell",
         "Tennis Court 2"
        ],
        [
         "David Jones",
         "Tennis Court 1"
        ],
        [
         "David Jones",
         "Tennis Court 2"
        ],
        [
         "David Pinker",
         "Tennis Court 1"
        ],
        [
         "Douglas Jones",
         "Tennis Court 1"
        ],
        [
         "Erica Crumpet",
         "Tennis Court 1"
        ],
        [
         "Florence Bader",
         "Tennis Court 1"
        ],
        [
         "Florence Bader",
         "Tennis Court 2"
        ],
        [
         "GUEST GUEST",
         "Tennis Court 1"
        ],
        [
         "GUEST GUEST",
         "Tennis Court 2"
        ],
        [
         "Gerald Butters",
         "Tennis Court 1"
        ],
        [
         "Gerald Butters",
         "Tennis Court 2"
        ],
        [
         "Henrietta Rumney",
         "Tennis Court 2"
        ],
        [
         "Jack Smith",
         "Tennis Court 1"
        ],
        [
         "Jack Smith",
         "Tennis Court 2"
        ],
        [
         "Janice Joplette",
         "Tennis Court 1"
        ],
        [
         "Janice Joplette",
         "Tennis Court 2"
        ],
        [
         "Jemima Farrell",
         "Tennis Court 1"
        ],
        [
         "Jemima Farrell",
         "Tennis Court 2"
        ],
        [
         "Joan Coplin",
         "Tennis Court 1"
        ],
        [
         "John Hunt",
         "Tennis Court 1"
        ],
        [
         "John Hunt",
         "Tennis Court 2"
        ],
        [
         "Matthew Genting",
         "Tennis Court 1"
        ],
        [
         "Millicent Purview",
         "Tennis Court 2"
        ],
        [
         "Nancy Dare",
         "Tennis Court 1"
        ],
        [
         "Nancy Dare",
         "Tennis Court 2"
        ],
        [
         "Ponder Stibbons",
         "Tennis Court 1"
        ],
        [
         "Ponder Stibbons",
         "Tennis Court 2"
        ],
        [
         "Ramnaresh Sarwin",
         "Tennis Court 1"
        ],
        [
         "Ramnaresh Sarwin",
         "Tennis Court 2"
        ],
        [
         "Tim Boothe",
         "Tennis Court 1"
        ],
        [
         "Tim Boothe",
         "Tennis Court 2"
        ],
        [
         "Tim Rownam",
         "Tennis Court 1"
        ],
        [
         "Tim Rownam",
         "Tennis Court 2"
        ],
        [
         "Timothy Baker",
         "Tennis Court 1"
        ],
        [
         "Timothy Baker",
         "Tennis Court 2"
        ],
        [
         "Tracy Smith",
         "Tennis Court 1"
        ],
        [
         "Tracy Smith",
         "Tennis Court 2"
        ]
       ],
       "datasetInfos": [],
       "dbfsResultPath": null,
       "isJsonSchema": true,
       "metadata": {},
       "overflow": false,
       "plotOptions": {
        "customPlotOptions": {},
        "displayType": "table",
        "pivotAggregation": null,
        "pivotColumns": null,
        "xColumns": null,
        "yColumns": null
       },
       "removedWidgets": [],
       "schema": [
        {
         "metadata": "{}",
         "name": "member",
         "type": "\"string\""
        },
        {
         "metadata": "{}",
         "name": "facility",
         "type": "\"string\""
        }
       ],
       "type": "table"
      }
     },
     "output_type": "display_data"
    }
   ],
   "source": [
    "# Define the SQL query\n",
    "query = \"\"\"\n",
    "select distinct firstname|| ' ' ||surname as member, facilities.name as facility\n",
    "from members\n",
    "inner join bookings\n",
    "on members.memid=bookings.memid\n",
    "inner join facilities \n",
    "on bookings.facid = facilities.facid\n",
    "where facilities.name in ('Tennis Court 2','Tennis Court 1')\n",
    "order by member, facility\n",
    "\"\"\"\n",
    "\n",
    "# Execute the query\n",
    "df = spark.sql(query)\n",
    "display(df)"
   ]
  },
  {
   "cell_type": "markdown",
   "metadata": {
    "application/vnd.databricks.v1+cell": {
     "cellMetadata": {},
     "inputWidgets": {},
     "nuid": "b5c0c9fb-1d3f-4362-b45c-9e4e82f1f773",
     "showTitle": false,
     "title": ""
    }
   },
   "source": [
    "### Question 5\n",
    "How can you output a list of all members, including the individual who recommended them (if any), without using any joins? Ensure that there are no duplicates in the list, and that each firstname + surname pairing is formatted as a column and ordered.\n",
    "\n",
    "https://pgexercises.com/questions/joins/sub.html"
   ]
  },
  {
   "cell_type": "code",
   "execution_count": 0,
   "metadata": {
    "application/vnd.databricks.v1+cell": {
     "cellMetadata": {
      "byteLimit": 2048000,
      "rowLimit": 10000
     },
     "inputWidgets": {},
     "nuid": "0de6fdc9-5afe-40f0-a11d-f814c25817f9",
     "showTitle": false,
     "title": ""
    }
   },
   "outputs": [
    {
     "output_type": "display_data",
     "data": {
      "text/plain": [
       "\u001B[0;31m---------------------------------------------------------------------------\u001B[0m\n",
       "\u001B[0;31mAnalysisException\u001B[0m                         Traceback (most recent call last)\n",
       "File \u001B[0;32m<command-1617139453244351>:13\u001B[0m\n",
       "\u001B[1;32m      2\u001B[0m query \u001B[38;5;241m=\u001B[39m \u001B[38;5;124m\"\"\"\u001B[39m\n",
       "\u001B[1;32m      3\u001B[0m \u001B[38;5;124mselect distinct members.firstname || \u001B[39m\u001B[38;5;124m'\u001B[39m\u001B[38;5;124m \u001B[39m\u001B[38;5;124m'\u001B[39m\u001B[38;5;124m || members.surname as member,\u001B[39m\n",
       "\u001B[1;32m      4\u001B[0m \u001B[38;5;124m\t(select distinct recommender.firstname || \u001B[39m\u001B[38;5;124m'\u001B[39m\u001B[38;5;124m \u001B[39m\u001B[38;5;124m'\u001B[39m\u001B[38;5;124m || recommender.surname as recommender\u001B[39m\n",
       "\u001B[0;32m   (...)\u001B[0m\n",
       "\u001B[1;32m      9\u001B[0m \u001B[38;5;124m order by member\u001B[39m\n",
       "\u001B[1;32m     10\u001B[0m \u001B[38;5;124m\"\"\"\u001B[39m\n",
       "\u001B[1;32m     12\u001B[0m \u001B[38;5;66;03m# Execute the query\u001B[39;00m\n",
       "\u001B[0;32m---> 13\u001B[0m df \u001B[38;5;241m=\u001B[39m spark\u001B[38;5;241m.\u001B[39msql(query)\n",
       "\u001B[1;32m     14\u001B[0m display(df)\n",
       "\n",
       "File \u001B[0;32m/databricks/spark/python/pyspark/instrumentation_utils.py:48\u001B[0m, in \u001B[0;36m_wrap_function.<locals>.wrapper\u001B[0;34m(*args, **kwargs)\u001B[0m\n",
       "\u001B[1;32m     46\u001B[0m start \u001B[38;5;241m=\u001B[39m time\u001B[38;5;241m.\u001B[39mperf_counter()\n",
       "\u001B[1;32m     47\u001B[0m \u001B[38;5;28;01mtry\u001B[39;00m:\n",
       "\u001B[0;32m---> 48\u001B[0m     res \u001B[38;5;241m=\u001B[39m \u001B[43mfunc\u001B[49m\u001B[43m(\u001B[49m\u001B[38;5;241;43m*\u001B[39;49m\u001B[43margs\u001B[49m\u001B[43m,\u001B[49m\u001B[43m \u001B[49m\u001B[38;5;241;43m*\u001B[39;49m\u001B[38;5;241;43m*\u001B[39;49m\u001B[43mkwargs\u001B[49m\u001B[43m)\u001B[49m\n",
       "\u001B[1;32m     49\u001B[0m     logger\u001B[38;5;241m.\u001B[39mlog_success(\n",
       "\u001B[1;32m     50\u001B[0m         module_name, class_name, function_name, time\u001B[38;5;241m.\u001B[39mperf_counter() \u001B[38;5;241m-\u001B[39m start, signature\n",
       "\u001B[1;32m     51\u001B[0m     )\n",
       "\u001B[1;32m     52\u001B[0m     \u001B[38;5;28;01mreturn\u001B[39;00m res\n",
       "\n",
       "File \u001B[0;32m/databricks/spark/python/pyspark/sql/session.py:1387\u001B[0m, in \u001B[0;36mSparkSession.sql\u001B[0;34m(self, sqlQuery, args, **kwargs)\u001B[0m\n",
       "\u001B[1;32m   1385\u001B[0m \u001B[38;5;28;01mtry\u001B[39;00m:\n",
       "\u001B[1;32m   1386\u001B[0m     litArgs \u001B[38;5;241m=\u001B[39m {k: _to_java_column(lit(v)) \u001B[38;5;28;01mfor\u001B[39;00m k, v \u001B[38;5;129;01min\u001B[39;00m (args \u001B[38;5;129;01mor\u001B[39;00m {})\u001B[38;5;241m.\u001B[39mitems()}\n",
       "\u001B[0;32m-> 1387\u001B[0m     \u001B[38;5;28;01mreturn\u001B[39;00m DataFrame(\u001B[38;5;28;43mself\u001B[39;49m\u001B[38;5;241;43m.\u001B[39;49m\u001B[43m_jsparkSession\u001B[49m\u001B[38;5;241;43m.\u001B[39;49m\u001B[43msql\u001B[49m\u001B[43m(\u001B[49m\u001B[43msqlQuery\u001B[49m\u001B[43m,\u001B[49m\u001B[43m \u001B[49m\u001B[43mlitArgs\u001B[49m\u001B[43m)\u001B[49m, \u001B[38;5;28mself\u001B[39m)\n",
       "\u001B[1;32m   1388\u001B[0m \u001B[38;5;28;01mfinally\u001B[39;00m:\n",
       "\u001B[1;32m   1389\u001B[0m     \u001B[38;5;28;01mif\u001B[39;00m \u001B[38;5;28mlen\u001B[39m(kwargs) \u001B[38;5;241m>\u001B[39m \u001B[38;5;241m0\u001B[39m:\n",
       "\n",
       "File \u001B[0;32m/databricks/spark/python/lib/py4j-0.10.9.5-src.zip/py4j/java_gateway.py:1321\u001B[0m, in \u001B[0;36mJavaMember.__call__\u001B[0;34m(self, *args)\u001B[0m\n",
       "\u001B[1;32m   1315\u001B[0m command \u001B[38;5;241m=\u001B[39m proto\u001B[38;5;241m.\u001B[39mCALL_COMMAND_NAME \u001B[38;5;241m+\u001B[39m\\\n",
       "\u001B[1;32m   1316\u001B[0m     \u001B[38;5;28mself\u001B[39m\u001B[38;5;241m.\u001B[39mcommand_header \u001B[38;5;241m+\u001B[39m\\\n",
       "\u001B[1;32m   1317\u001B[0m     args_command \u001B[38;5;241m+\u001B[39m\\\n",
       "\u001B[1;32m   1318\u001B[0m     proto\u001B[38;5;241m.\u001B[39mEND_COMMAND_PART\n",
       "\u001B[1;32m   1320\u001B[0m answer \u001B[38;5;241m=\u001B[39m \u001B[38;5;28mself\u001B[39m\u001B[38;5;241m.\u001B[39mgateway_client\u001B[38;5;241m.\u001B[39msend_command(command)\n",
       "\u001B[0;32m-> 1321\u001B[0m return_value \u001B[38;5;241m=\u001B[39m \u001B[43mget_return_value\u001B[49m\u001B[43m(\u001B[49m\n",
       "\u001B[1;32m   1322\u001B[0m \u001B[43m    \u001B[49m\u001B[43manswer\u001B[49m\u001B[43m,\u001B[49m\u001B[43m \u001B[49m\u001B[38;5;28;43mself\u001B[39;49m\u001B[38;5;241;43m.\u001B[39;49m\u001B[43mgateway_client\u001B[49m\u001B[43m,\u001B[49m\u001B[43m \u001B[49m\u001B[38;5;28;43mself\u001B[39;49m\u001B[38;5;241;43m.\u001B[39;49m\u001B[43mtarget_id\u001B[49m\u001B[43m,\u001B[49m\u001B[43m \u001B[49m\u001B[38;5;28;43mself\u001B[39;49m\u001B[38;5;241;43m.\u001B[39;49m\u001B[43mname\u001B[49m\u001B[43m)\u001B[49m\n",
       "\u001B[1;32m   1324\u001B[0m \u001B[38;5;28;01mfor\u001B[39;00m temp_arg \u001B[38;5;129;01min\u001B[39;00m temp_args:\n",
       "\u001B[1;32m   1325\u001B[0m     temp_arg\u001B[38;5;241m.\u001B[39m_detach()\n",
       "\n",
       "File \u001B[0;32m/databricks/spark/python/pyspark/errors/exceptions.py:234\u001B[0m, in \u001B[0;36mcapture_sql_exception.<locals>.deco\u001B[0;34m(*a, **kw)\u001B[0m\n",
       "\u001B[1;32m    230\u001B[0m converted \u001B[38;5;241m=\u001B[39m convert_exception(e\u001B[38;5;241m.\u001B[39mjava_exception)\n",
       "\u001B[1;32m    231\u001B[0m \u001B[38;5;28;01mif\u001B[39;00m \u001B[38;5;129;01mnot\u001B[39;00m \u001B[38;5;28misinstance\u001B[39m(converted, UnknownException):\n",
       "\u001B[1;32m    232\u001B[0m     \u001B[38;5;66;03m# Hide where the exception came from that shows a non-Pythonic\u001B[39;00m\n",
       "\u001B[1;32m    233\u001B[0m     \u001B[38;5;66;03m# JVM exception message.\u001B[39;00m\n",
       "\u001B[0;32m--> 234\u001B[0m     \u001B[38;5;28;01mraise\u001B[39;00m converted \u001B[38;5;28;01mfrom\u001B[39;00m \u001B[38;5;28mNone\u001B[39m\n",
       "\u001B[1;32m    235\u001B[0m \u001B[38;5;28;01melse\u001B[39;00m:\n",
       "\u001B[1;32m    236\u001B[0m     \u001B[38;5;28;01mraise\u001B[39;00m\n",
       "\n",
       "\u001B[0;31mAnalysisException\u001B[0m: [UNSUPPORTED_SUBQUERY_EXPRESSION_CATEGORY.MUST_AGGREGATE_CORRELATED_SCALAR_SUBQUERY] Unsupported subquery expression: Correlated scalar subqueries must be aggregated to return at most one row.; line 3 pos 1;\n",
       "Sort [member#4239 ASC NULLS FIRST], true\n",
       "+- Distinct\n",
       "   +- Project [concat(concat(firstname#4252,  ), surname#4251) AS member#4239, scalar-subquery#4241 [recommendedby#4256] AS scalarsubquery(recommendedby)#4267]\n",
       "      :  +- Distinct\n",
       "      :     +- Project [concat(concat(firstname#4260,  ), surname#4259) AS recommender#4240]\n",
       "      :        +- Filter (memid#4258 = outer(recommendedby#4256))\n",
       "      :           +- SubqueryAlias recommender\n",
       "      :              +- SubqueryAlias spark_catalog.default.members\n",
       "      :                 +- Relation spark_catalog.default.members[memid#4258,surname#4259,firstname#4260,address#4261,zipcode#4262,telephone#4263,recommendedby#4264,joindate#4265] parquet\n",
       "      +- SubqueryAlias spark_catalog.default.members\n",
       "         +- Relation spark_catalog.default.members[memid#4250,surname#4251,firstname#4252,address#4253,zipcode#4254,telephone#4255,recommendedby#4256,joindate#4257] parquet\n"
      ]
     },
     "metadata": {
      "application/vnd.databricks.v1+output": {
       "arguments": {},
       "data": "\u001B[0;31m---------------------------------------------------------------------------\u001B[0m\n\u001B[0;31mAnalysisException\u001B[0m                         Traceback (most recent call last)\nFile \u001B[0;32m<command-1617139453244351>:13\u001B[0m\n\u001B[1;32m      2\u001B[0m query \u001B[38;5;241m=\u001B[39m \u001B[38;5;124m\"\"\"\u001B[39m\n\u001B[1;32m      3\u001B[0m \u001B[38;5;124mselect distinct members.firstname || \u001B[39m\u001B[38;5;124m'\u001B[39m\u001B[38;5;124m \u001B[39m\u001B[38;5;124m'\u001B[39m\u001B[38;5;124m || members.surname as member,\u001B[39m\n\u001B[1;32m      4\u001B[0m \u001B[38;5;124m\t(select distinct recommender.firstname || \u001B[39m\u001B[38;5;124m'\u001B[39m\u001B[38;5;124m \u001B[39m\u001B[38;5;124m'\u001B[39m\u001B[38;5;124m || recommender.surname as recommender\u001B[39m\n\u001B[0;32m   (...)\u001B[0m\n\u001B[1;32m      9\u001B[0m \u001B[38;5;124m order by member\u001B[39m\n\u001B[1;32m     10\u001B[0m \u001B[38;5;124m\"\"\"\u001B[39m\n\u001B[1;32m     12\u001B[0m \u001B[38;5;66;03m# Execute the query\u001B[39;00m\n\u001B[0;32m---> 13\u001B[0m df \u001B[38;5;241m=\u001B[39m spark\u001B[38;5;241m.\u001B[39msql(query)\n\u001B[1;32m     14\u001B[0m display(df)\n\nFile \u001B[0;32m/databricks/spark/python/pyspark/instrumentation_utils.py:48\u001B[0m, in \u001B[0;36m_wrap_function.<locals>.wrapper\u001B[0;34m(*args, **kwargs)\u001B[0m\n\u001B[1;32m     46\u001B[0m start \u001B[38;5;241m=\u001B[39m time\u001B[38;5;241m.\u001B[39mperf_counter()\n\u001B[1;32m     47\u001B[0m \u001B[38;5;28;01mtry\u001B[39;00m:\n\u001B[0;32m---> 48\u001B[0m     res \u001B[38;5;241m=\u001B[39m \u001B[43mfunc\u001B[49m\u001B[43m(\u001B[49m\u001B[38;5;241;43m*\u001B[39;49m\u001B[43margs\u001B[49m\u001B[43m,\u001B[49m\u001B[43m \u001B[49m\u001B[38;5;241;43m*\u001B[39;49m\u001B[38;5;241;43m*\u001B[39;49m\u001B[43mkwargs\u001B[49m\u001B[43m)\u001B[49m\n\u001B[1;32m     49\u001B[0m     logger\u001B[38;5;241m.\u001B[39mlog_success(\n\u001B[1;32m     50\u001B[0m         module_name, class_name, function_name, time\u001B[38;5;241m.\u001B[39mperf_counter() \u001B[38;5;241m-\u001B[39m start, signature\n\u001B[1;32m     51\u001B[0m     )\n\u001B[1;32m     52\u001B[0m     \u001B[38;5;28;01mreturn\u001B[39;00m res\n\nFile \u001B[0;32m/databricks/spark/python/pyspark/sql/session.py:1387\u001B[0m, in \u001B[0;36mSparkSession.sql\u001B[0;34m(self, sqlQuery, args, **kwargs)\u001B[0m\n\u001B[1;32m   1385\u001B[0m \u001B[38;5;28;01mtry\u001B[39;00m:\n\u001B[1;32m   1386\u001B[0m     litArgs \u001B[38;5;241m=\u001B[39m {k: _to_java_column(lit(v)) \u001B[38;5;28;01mfor\u001B[39;00m k, v \u001B[38;5;129;01min\u001B[39;00m (args \u001B[38;5;129;01mor\u001B[39;00m {})\u001B[38;5;241m.\u001B[39mitems()}\n\u001B[0;32m-> 1387\u001B[0m     \u001B[38;5;28;01mreturn\u001B[39;00m DataFrame(\u001B[38;5;28;43mself\u001B[39;49m\u001B[38;5;241;43m.\u001B[39;49m\u001B[43m_jsparkSession\u001B[49m\u001B[38;5;241;43m.\u001B[39;49m\u001B[43msql\u001B[49m\u001B[43m(\u001B[49m\u001B[43msqlQuery\u001B[49m\u001B[43m,\u001B[49m\u001B[43m \u001B[49m\u001B[43mlitArgs\u001B[49m\u001B[43m)\u001B[49m, \u001B[38;5;28mself\u001B[39m)\n\u001B[1;32m   1388\u001B[0m \u001B[38;5;28;01mfinally\u001B[39;00m:\n\u001B[1;32m   1389\u001B[0m     \u001B[38;5;28;01mif\u001B[39;00m \u001B[38;5;28mlen\u001B[39m(kwargs) \u001B[38;5;241m>\u001B[39m \u001B[38;5;241m0\u001B[39m:\n\nFile \u001B[0;32m/databricks/spark/python/lib/py4j-0.10.9.5-src.zip/py4j/java_gateway.py:1321\u001B[0m, in \u001B[0;36mJavaMember.__call__\u001B[0;34m(self, *args)\u001B[0m\n\u001B[1;32m   1315\u001B[0m command \u001B[38;5;241m=\u001B[39m proto\u001B[38;5;241m.\u001B[39mCALL_COMMAND_NAME \u001B[38;5;241m+\u001B[39m\\\n\u001B[1;32m   1316\u001B[0m     \u001B[38;5;28mself\u001B[39m\u001B[38;5;241m.\u001B[39mcommand_header \u001B[38;5;241m+\u001B[39m\\\n\u001B[1;32m   1317\u001B[0m     args_command \u001B[38;5;241m+\u001B[39m\\\n\u001B[1;32m   1318\u001B[0m     proto\u001B[38;5;241m.\u001B[39mEND_COMMAND_PART\n\u001B[1;32m   1320\u001B[0m answer \u001B[38;5;241m=\u001B[39m \u001B[38;5;28mself\u001B[39m\u001B[38;5;241m.\u001B[39mgateway_client\u001B[38;5;241m.\u001B[39msend_command(command)\n\u001B[0;32m-> 1321\u001B[0m return_value \u001B[38;5;241m=\u001B[39m \u001B[43mget_return_value\u001B[49m\u001B[43m(\u001B[49m\n\u001B[1;32m   1322\u001B[0m \u001B[43m    \u001B[49m\u001B[43manswer\u001B[49m\u001B[43m,\u001B[49m\u001B[43m \u001B[49m\u001B[38;5;28;43mself\u001B[39;49m\u001B[38;5;241;43m.\u001B[39;49m\u001B[43mgateway_client\u001B[49m\u001B[43m,\u001B[49m\u001B[43m \u001B[49m\u001B[38;5;28;43mself\u001B[39;49m\u001B[38;5;241;43m.\u001B[39;49m\u001B[43mtarget_id\u001B[49m\u001B[43m,\u001B[49m\u001B[43m \u001B[49m\u001B[38;5;28;43mself\u001B[39;49m\u001B[38;5;241;43m.\u001B[39;49m\u001B[43mname\u001B[49m\u001B[43m)\u001B[49m\n\u001B[1;32m   1324\u001B[0m \u001B[38;5;28;01mfor\u001B[39;00m temp_arg \u001B[38;5;129;01min\u001B[39;00m temp_args:\n\u001B[1;32m   1325\u001B[0m     temp_arg\u001B[38;5;241m.\u001B[39m_detach()\n\nFile \u001B[0;32m/databricks/spark/python/pyspark/errors/exceptions.py:234\u001B[0m, in \u001B[0;36mcapture_sql_exception.<locals>.deco\u001B[0;34m(*a, **kw)\u001B[0m\n\u001B[1;32m    230\u001B[0m converted \u001B[38;5;241m=\u001B[39m convert_exception(e\u001B[38;5;241m.\u001B[39mjava_exception)\n\u001B[1;32m    231\u001B[0m \u001B[38;5;28;01mif\u001B[39;00m \u001B[38;5;129;01mnot\u001B[39;00m \u001B[38;5;28misinstance\u001B[39m(converted, UnknownException):\n\u001B[1;32m    232\u001B[0m     \u001B[38;5;66;03m# Hide where the exception came from that shows a non-Pythonic\u001B[39;00m\n\u001B[1;32m    233\u001B[0m     \u001B[38;5;66;03m# JVM exception message.\u001B[39;00m\n\u001B[0;32m--> 234\u001B[0m     \u001B[38;5;28;01mraise\u001B[39;00m converted \u001B[38;5;28;01mfrom\u001B[39;00m \u001B[38;5;28mNone\u001B[39m\n\u001B[1;32m    235\u001B[0m \u001B[38;5;28;01melse\u001B[39;00m:\n\u001B[1;32m    236\u001B[0m     \u001B[38;5;28;01mraise\u001B[39;00m\n\n\u001B[0;31mAnalysisException\u001B[0m: [UNSUPPORTED_SUBQUERY_EXPRESSION_CATEGORY.MUST_AGGREGATE_CORRELATED_SCALAR_SUBQUERY] Unsupported subquery expression: Correlated scalar subqueries must be aggregated to return at most one row.; line 3 pos 1;\nSort [member#4239 ASC NULLS FIRST], true\n+- Distinct\n   +- Project [concat(concat(firstname#4252,  ), surname#4251) AS member#4239, scalar-subquery#4241 [recommendedby#4256] AS scalarsubquery(recommendedby)#4267]\n      :  +- Distinct\n      :     +- Project [concat(concat(firstname#4260,  ), surname#4259) AS recommender#4240]\n      :        +- Filter (memid#4258 = outer(recommendedby#4256))\n      :           +- SubqueryAlias recommender\n      :              +- SubqueryAlias spark_catalog.default.members\n      :                 +- Relation spark_catalog.default.members[memid#4258,surname#4259,firstname#4260,address#4261,zipcode#4262,telephone#4263,recommendedby#4264,joindate#4265] parquet\n      +- SubqueryAlias spark_catalog.default.members\n         +- Relation spark_catalog.default.members[memid#4250,surname#4251,firstname#4252,address#4253,zipcode#4254,telephone#4255,recommendedby#4256,joindate#4257] parquet\n",
       "errorSummary": "<span class='ansi-red-fg'>AnalysisException</span>: [UNSUPPORTED_SUBQUERY_EXPRESSION_CATEGORY.MUST_AGGREGATE_CORRELATED_SCALAR_SUBQUERY] Unsupported subquery expression: Correlated scalar subqueries must be aggregated to return at most one row.; line 3 pos 1;\nSort [member#4239 ASC NULLS FIRST], true\n+- Distinct\n   +- Project [concat(concat(firstname#4252,  ), surname#4251) AS member#4239, scalar-subquery#4241 [recommendedby#4256] AS scalarsubquery(recommendedby)#4267]\n      :  +- Distinct\n      :     +- Project [concat(concat(firstname#4260,  ), surname#4259) AS recommender#4240]\n      :        +- Filter (memid#4258 = outer(recommendedby#4256))\n      :           +- SubqueryAlias recommender\n      :              +- SubqueryAlias spark_catalog.default.members\n      :                 +- Relation spark_catalog.default.members[memid#4258,surname#4259,firstname#4260,address#4261,zipcode#4262,telephone#4263,recommendedby#4264,joindate#4265] parquet\n      +- SubqueryAlias spark_catalog.default.members\n         +- Relation spark_catalog.default.members[memid#4250,surname#4251,firstname#4252,address#4253,zipcode#4254,telephone#4255,recommendedby#4256,joindate#4257] parquet\n",
       "errorTraceType": "ansi",
       "metadata": {},
       "type": "ipynbError"
      }
     },
     "output_type": "display_data"
    }
   ],
   "source": [
    "# Define the SQL query\n",
    "query = \"\"\"\n",
    "select distinct members.firstname || ' ' || members.surname as member,\n",
    "\t(select distinct recommender.firstname || ' ' || recommender.surname as recommender\n",
    " \t\tfrom members as recommender\n",
    " \t\twhere recommender.memid=members.recommendedby\n",
    " \t)\n",
    " \tfrom members\n",
    " order by member\n",
    "\"\"\"\n",
    "\n",
    "# Execute the query\n",
    "df = spark.sql(query)\n",
    "display(df)\n"
   ]
  },
  {
   "cell_type": "markdown",
   "metadata": {
    "application/vnd.databricks.v1+cell": {
     "cellMetadata": {},
     "inputWidgets": {},
     "nuid": "7aa39abd-10ba-4875-ac4b-221ff491120e",
     "showTitle": false,
     "title": ""
    }
   },
   "source": [
    "### Aggregation\n",
    "### Question 1\n",
    "Produce a count of the number of recommendations each member has made. Order by member ID.\n",
    "https://pgexercises.com/questions/aggregates/count3.html"
   ]
  },
  {
   "cell_type": "code",
   "execution_count": 0,
   "metadata": {
    "application/vnd.databricks.v1+cell": {
     "cellMetadata": {
      "byteLimit": 2048000,
      "rowLimit": 10000
     },
     "inputWidgets": {},
     "nuid": "4144a447-94e7-4ab5-8dc6-82252cf23b79",
     "showTitle": false,
     "title": ""
    }
   },
   "outputs": [
    {
     "output_type": "display_data",
     "data": {
      "text/html": [
       "<style scoped>\n",
       "  .table-result-container {\n",
       "    max-height: 300px;\n",
       "    overflow: auto;\n",
       "  }\n",
       "  table, th, td {\n",
       "    border: 1px solid black;\n",
       "    border-collapse: collapse;\n",
       "  }\n",
       "  th, td {\n",
       "    padding: 5px;\n",
       "  }\n",
       "  th {\n",
       "    text-align: left;\n",
       "  }\n",
       "</style><div class='table-result-container'><table class='table-result'><thead style='background-color: white'><tr><th>recommendedby</th><th>count</th></tr></thead><tbody><tr><td>1</td><td>5</td></tr><tr><td>11</td><td>1</td></tr><tr><td>13</td><td>2</td></tr><tr><td>15</td><td>1</td></tr><tr><td>16</td><td>1</td></tr><tr><td>2</td><td>3</td></tr><tr><td>20</td><td>1</td></tr><tr><td>3</td><td>1</td></tr><tr><td>30</td><td>1</td></tr><tr><td>4</td><td>2</td></tr><tr><td>5</td><td>1</td></tr><tr><td>6</td><td>1</td></tr><tr><td>9</td><td>2</td></tr></tbody></table></div>"
      ]
     },
     "metadata": {
      "application/vnd.databricks.v1+output": {
       "addedWidgets": {},
       "aggData": [],
       "aggError": "",
       "aggOverflow": false,
       "aggSchema": [],
       "aggSeriesLimitReached": false,
       "aggType": "",
       "arguments": {},
       "columnCustomDisplayInfos": {},
       "data": [
        [
         "1",
         5
        ],
        [
         "11",
         1
        ],
        [
         "13",
         2
        ],
        [
         "15",
         1
        ],
        [
         "16",
         1
        ],
        [
         "2",
         3
        ],
        [
         "20",
         1
        ],
        [
         "3",
         1
        ],
        [
         "30",
         1
        ],
        [
         "4",
         2
        ],
        [
         "5",
         1
        ],
        [
         "6",
         1
        ],
        [
         "9",
         2
        ]
       ],
       "datasetInfos": [],
       "dbfsResultPath": null,
       "isJsonSchema": true,
       "metadata": {},
       "overflow": false,
       "plotOptions": {
        "customPlotOptions": {},
        "displayType": "table",
        "pivotAggregation": null,
        "pivotColumns": null,
        "xColumns": null,
        "yColumns": null
       },
       "removedWidgets": [],
       "schema": [
        {
         "metadata": "{}",
         "name": "recommendedby",
         "type": "\"string\""
        },
        {
         "metadata": "{}",
         "name": "count",
         "type": "\"long\""
        }
       ],
       "type": "table"
      }
     },
     "output_type": "display_data"
    }
   ],
   "source": [
    "# Define the SQL query\n",
    "query = \"\"\"\n",
    "select recommender.memid as recommendedby, count(recommender.memid) as count\n",
    "from members\n",
    "left join members as recommender\n",
    "on members.recommendedby=recommender.memid\n",
    "where recommender.memid is not null\n",
    "group by recommender.memid\n",
    "order by recommender.memid\n",
    "\"\"\"\n",
    "\n",
    "# Execute the query\n",
    "df = spark.sql(query)\n",
    "display(df)"
   ]
  },
  {
   "cell_type": "markdown",
   "metadata": {
    "application/vnd.databricks.v1+cell": {
     "cellMetadata": {},
     "inputWidgets": {},
     "nuid": "f09b2081-d8fa-4d82-aed5-ee297657e071",
     "showTitle": false,
     "title": ""
    }
   },
   "source": [
    "### Question 2\n",
    "Produce a list of the total number of slots booked per facility. For now, just produce an output table consisting of facility id and slots, sorted by facility id.\n",
    "\n",
    "https://pgexercises.com/questions/aggregates/fachours.html"
   ]
  },
  {
   "cell_type": "code",
   "execution_count": 0,
   "metadata": {
    "application/vnd.databricks.v1+cell": {
     "cellMetadata": {
      "byteLimit": 2048000,
      "rowLimit": 10000
     },
     "inputWidgets": {},
     "nuid": "163ee356-1392-41c7-b554-3661a117f5b8",
     "showTitle": false,
     "title": ""
    }
   },
   "outputs": [
    {
     "output_type": "display_data",
     "data": {
      "text/html": [
       "<style scoped>\n",
       "  .table-result-container {\n",
       "    max-height: 300px;\n",
       "    overflow: auto;\n",
       "  }\n",
       "  table, th, td {\n",
       "    border: 1px solid black;\n",
       "    border-collapse: collapse;\n",
       "  }\n",
       "  th, td {\n",
       "    padding: 5px;\n",
       "  }\n",
       "  th {\n",
       "    text-align: left;\n",
       "  }\n",
       "</style><div class='table-result-container'><table class='table-result'><thead style='background-color: white'><tr><th>facid</th><th>total slots</th></tr></thead><tbody><tr><td>0</td><td>1320</td></tr><tr><td>1</td><td>1278</td></tr><tr><td>2</td><td>1209</td></tr><tr><td>3</td><td>830</td></tr><tr><td>4</td><td>1404</td></tr><tr><td>5</td><td>228</td></tr><tr><td>6</td><td>1104</td></tr><tr><td>7</td><td>908</td></tr><tr><td>8</td><td>911</td></tr></tbody></table></div>"
      ]
     },
     "metadata": {
      "application/vnd.databricks.v1+output": {
       "addedWidgets": {},
       "aggData": [],
       "aggError": "",
       "aggOverflow": false,
       "aggSchema": [],
       "aggSeriesLimitReached": false,
       "aggType": "",
       "arguments": {},
       "columnCustomDisplayInfos": {},
       "data": [
        [
         0,
         1320
        ],
        [
         1,
         1278
        ],
        [
         2,
         1209
        ],
        [
         3,
         830
        ],
        [
         4,
         1404
        ],
        [
         5,
         228
        ],
        [
         6,
         1104
        ],
        [
         7,
         908
        ],
        [
         8,
         911
        ]
       ],
       "datasetInfos": [],
       "dbfsResultPath": null,
       "isJsonSchema": true,
       "metadata": {},
       "overflow": false,
       "plotOptions": {
        "customPlotOptions": {},
        "displayType": "table",
        "pivotAggregation": null,
        "pivotColumns": null,
        "xColumns": null,
        "yColumns": null
       },
       "removedWidgets": [],
       "schema": [
        {
         "metadata": "{}",
         "name": "facid",
         "type": "\"integer\""
        },
        {
         "metadata": "{}",
         "name": "total slots",
         "type": "\"long\""
        }
       ],
       "type": "table"
      }
     },
     "output_type": "display_data"
    }
   ],
   "source": [
    "# Define the SQL query\n",
    "query = \"\"\"\n",
    "select bookings.facid, sum(slots) as `total slots`\n",
    "from bookings\n",
    "inner join facilities\n",
    "on bookings.facid=facilities.facid\n",
    "group by bookings.facid\n",
    "order by bookings.facid\n",
    "\"\"\"\n",
    "\n",
    "# Execute the query\n",
    "df = spark.sql(query)\n",
    "display(df)"
   ]
  },
  {
   "cell_type": "markdown",
   "metadata": {
    "application/vnd.databricks.v1+cell": {
     "cellMetadata": {},
     "inputWidgets": {},
     "nuid": "3ca3c655-2f27-4444-baa9-b70308473ec8",
     "showTitle": false,
     "title": ""
    }
   },
   "source": [
    "### Question 3\n",
    "\n",
    "Produce a list of the total number of slots booked per facility in the month of September 2012. Produce an output table consisting of facility id and slots, sorted by the number of slots.\n",
    "\n",
    "https://pgexercises.com/questions/aggregates/fachoursbymonth.html"
   ]
  },
  {
   "cell_type": "code",
   "execution_count": 0,
   "metadata": {
    "application/vnd.databricks.v1+cell": {
     "cellMetadata": {
      "byteLimit": 2048000,
      "rowLimit": 10000
     },
     "inputWidgets": {},
     "nuid": "3ed116f3-c0a8-49e6-a2c7-c8ab844e432e",
     "showTitle": false,
     "title": ""
    }
   },
   "outputs": [
    {
     "output_type": "display_data",
     "data": {
      "text/html": [
       "<style scoped>\n",
       "  .table-result-container {\n",
       "    max-height: 300px;\n",
       "    overflow: auto;\n",
       "  }\n",
       "  table, th, td {\n",
       "    border: 1px solid black;\n",
       "    border-collapse: collapse;\n",
       "  }\n",
       "  th, td {\n",
       "    padding: 5px;\n",
       "  }\n",
       "  th {\n",
       "    text-align: left;\n",
       "  }\n",
       "</style><div class='table-result-container'><table class='table-result'><thead style='background-color: white'><tr><th>facid</th><th>Total Slots</th></tr></thead><tbody><tr><td>5</td><td>122</td></tr><tr><td>3</td><td>422</td></tr><tr><td>7</td><td>426</td></tr><tr><td>8</td><td>471</td></tr><tr><td>6</td><td>540</td></tr><tr><td>2</td><td>570</td></tr><tr><td>1</td><td>588</td></tr><tr><td>0</td><td>591</td></tr><tr><td>4</td><td>648</td></tr></tbody></table></div>"
      ]
     },
     "metadata": {
      "application/vnd.databricks.v1+output": {
       "addedWidgets": {},
       "aggData": [],
       "aggError": "",
       "aggOverflow": false,
       "aggSchema": [],
       "aggSeriesLimitReached": false,
       "aggType": "",
       "arguments": {},
       "columnCustomDisplayInfos": {},
       "data": [
        [
         5,
         122
        ],
        [
         3,
         422
        ],
        [
         7,
         426
        ],
        [
         8,
         471
        ],
        [
         6,
         540
        ],
        [
         2,
         570
        ],
        [
         1,
         588
        ],
        [
         0,
         591
        ],
        [
         4,
         648
        ]
       ],
       "datasetInfos": [],
       "dbfsResultPath": null,
       "isJsonSchema": true,
       "metadata": {},
       "overflow": false,
       "plotOptions": {
        "customPlotOptions": {},
        "displayType": "table",
        "pivotAggregation": null,
        "pivotColumns": null,
        "xColumns": null,
        "yColumns": null
       },
       "removedWidgets": [],
       "schema": [
        {
         "metadata": "{}",
         "name": "facid",
         "type": "\"integer\""
        },
        {
         "metadata": "{}",
         "name": "Total Slots",
         "type": "\"long\""
        }
       ],
       "type": "table"
      }
     },
     "output_type": "display_data"
    }
   ],
   "source": [
    "# Define the SQL query\n",
    "query = \"\"\"\n",
    "select bookings.facid, sum(slots) as `Total Slots`\n",
    "from bookings\n",
    "\n",
    "where bookings.starttime between '2012-09-01' and '2012-10-1'\n",
    "group by bookings.facid\n",
    "order by sum(slots)\n",
    "\"\"\"\n",
    "\n",
    "# Execute the query\n",
    "df = spark.sql(query)\n",
    "display(df)"
   ]
  },
  {
   "cell_type": "markdown",
   "metadata": {
    "application/vnd.databricks.v1+cell": {
     "cellMetadata": {},
     "inputWidgets": {},
     "nuid": "03123a21-c4cd-463a-b97f-0e2493aea91b",
     "showTitle": false,
     "title": ""
    }
   },
   "source": [
    "### Question 4\n",
    "\n",
    "Produce a list of the total number of slots booked per facility per month in the year of 2012. Produce an output table consisting of facility id and slots, sorted by the id and month.\n",
    "\n",
    "https://pgexercises.com/questions/aggregates/fachoursbymonth2.html"
   ]
  },
  {
   "cell_type": "code",
   "execution_count": 0,
   "metadata": {
    "application/vnd.databricks.v1+cell": {
     "cellMetadata": {
      "byteLimit": 2048000,
      "rowLimit": 10000
     },
     "inputWidgets": {},
     "nuid": "d9184d06-0e5b-487e-8fe9-42f30f06a0d3",
     "showTitle": false,
     "title": ""
    }
   },
   "outputs": [
    {
     "output_type": "display_data",
     "data": {
      "text/html": [
       "<style scoped>\n",
       "  .table-result-container {\n",
       "    max-height: 300px;\n",
       "    overflow: auto;\n",
       "  }\n",
       "  table, th, td {\n",
       "    border: 1px solid black;\n",
       "    border-collapse: collapse;\n",
       "  }\n",
       "  th, td {\n",
       "    padding: 5px;\n",
       "  }\n",
       "  th {\n",
       "    text-align: left;\n",
       "  }\n",
       "</style><div class='table-result-container'><table class='table-result'><thead style='background-color: white'><tr><th>facid</th><th>month</th><th>Total Slots</th></tr></thead><tbody><tr><td>0</td><td>7</td><td>270</td></tr><tr><td>0</td><td>8</td><td>459</td></tr><tr><td>0</td><td>9</td><td>591</td></tr><tr><td>1</td><td>7</td><td>207</td></tr><tr><td>1</td><td>8</td><td>483</td></tr><tr><td>1</td><td>9</td><td>588</td></tr><tr><td>2</td><td>7</td><td>180</td></tr><tr><td>2</td><td>8</td><td>459</td></tr><tr><td>2</td><td>9</td><td>570</td></tr><tr><td>3</td><td>7</td><td>104</td></tr><tr><td>3</td><td>8</td><td>304</td></tr><tr><td>3</td><td>9</td><td>422</td></tr><tr><td>4</td><td>7</td><td>264</td></tr><tr><td>4</td><td>8</td><td>492</td></tr><tr><td>4</td><td>9</td><td>648</td></tr><tr><td>5</td><td>7</td><td>24</td></tr><tr><td>5</td><td>8</td><td>82</td></tr><tr><td>5</td><td>9</td><td>122</td></tr><tr><td>6</td><td>7</td><td>164</td></tr><tr><td>6</td><td>8</td><td>400</td></tr><tr><td>6</td><td>9</td><td>540</td></tr><tr><td>7</td><td>7</td><td>156</td></tr><tr><td>7</td><td>8</td><td>326</td></tr><tr><td>7</td><td>9</td><td>426</td></tr><tr><td>8</td><td>7</td><td>117</td></tr><tr><td>8</td><td>8</td><td>322</td></tr><tr><td>8</td><td>9</td><td>471</td></tr></tbody></table></div>"
      ]
     },
     "metadata": {
      "application/vnd.databricks.v1+output": {
       "addedWidgets": {},
       "aggData": [],
       "aggError": "",
       "aggOverflow": false,
       "aggSchema": [],
       "aggSeriesLimitReached": false,
       "aggType": "",
       "arguments": {},
       "columnCustomDisplayInfos": {},
       "data": [
        [
         0,
         7,
         270
        ],
        [
         0,
         8,
         459
        ],
        [
         0,
         9,
         591
        ],
        [
         1,
         7,
         207
        ],
        [
         1,
         8,
         483
        ],
        [
         1,
         9,
         588
        ],
        [
         2,
         7,
         180
        ],
        [
         2,
         8,
         459
        ],
        [
         2,
         9,
         570
        ],
        [
         3,
         7,
         104
        ],
        [
         3,
         8,
         304
        ],
        [
         3,
         9,
         422
        ],
        [
         4,
         7,
         264
        ],
        [
         4,
         8,
         492
        ],
        [
         4,
         9,
         648
        ],
        [
         5,
         7,
         24
        ],
        [
         5,
         8,
         82
        ],
        [
         5,
         9,
         122
        ],
        [
         6,
         7,
         164
        ],
        [
         6,
         8,
         400
        ],
        [
         6,
         9,
         540
        ],
        [
         7,
         7,
         156
        ],
        [
         7,
         8,
         326
        ],
        [
         7,
         9,
         426
        ],
        [
         8,
         7,
         117
        ],
        [
         8,
         8,
         322
        ],
        [
         8,
         9,
         471
        ]
       ],
       "datasetInfos": [],
       "dbfsResultPath": null,
       "isJsonSchema": true,
       "metadata": {},
       "overflow": false,
       "plotOptions": {
        "customPlotOptions": {},
        "displayType": "table",
        "pivotAggregation": null,
        "pivotColumns": null,
        "xColumns": null,
        "yColumns": null
       },
       "removedWidgets": [],
       "schema": [
        {
         "metadata": "{}",
         "name": "facid",
         "type": "\"integer\""
        },
        {
         "metadata": "{}",
         "name": "month",
         "type": "\"integer\""
        },
        {
         "metadata": "{}",
         "name": "Total Slots",
         "type": "\"long\""
        }
       ],
       "type": "table"
      }
     },
     "output_type": "display_data"
    }
   ],
   "source": [
    "# Define the SQL query\n",
    "query = \"\"\"\n",
    "select bookings.facid, extract(month from starttime) as month, sum(slots) as `Total Slots`\n",
    "from bookings\n",
    "where extract(year from starttime)=2012\n",
    "group by bookings.facid, extract(month from starttime)\n",
    "order by bookings.facid, extract(month from starttime)\n",
    "\"\"\"\n",
    "\n",
    "# Execute the query\n",
    "df = spark.sql(query)\n",
    "display(df)"
   ]
  },
  {
   "cell_type": "markdown",
   "metadata": {
    "application/vnd.databricks.v1+cell": {
     "cellMetadata": {},
     "inputWidgets": {},
     "nuid": "2989008a-80fe-4b4e-98b0-b018ff107fa2",
     "showTitle": false,
     "title": ""
    }
   },
   "source": [
    "### Question 5\n",
    "Find the total number of members (including guests) who have made at least one booking.\n",
    "https://pgexercises.com/questions/aggregates/members1.html"
   ]
  },
  {
   "cell_type": "code",
   "execution_count": 0,
   "metadata": {
    "application/vnd.databricks.v1+cell": {
     "cellMetadata": {
      "byteLimit": 2048000,
      "rowLimit": 10000
     },
     "inputWidgets": {},
     "nuid": "2c4c35e6-3ed8-405c-b8c2-cd5fed1cd287",
     "showTitle": false,
     "title": ""
    }
   },
   "outputs": [
    {
     "output_type": "display_data",
     "data": {
      "text/html": [
       "<style scoped>\n",
       "  .table-result-container {\n",
       "    max-height: 300px;\n",
       "    overflow: auto;\n",
       "  }\n",
       "  table, th, td {\n",
       "    border: 1px solid black;\n",
       "    border-collapse: collapse;\n",
       "  }\n",
       "  th, td {\n",
       "    padding: 5px;\n",
       "  }\n",
       "  th {\n",
       "    text-align: left;\n",
       "  }\n",
       "</style><div class='table-result-container'><table class='table-result'><thead style='background-color: white'><tr><th>count</th></tr></thead><tbody><tr><td>30</td></tr></tbody></table></div>"
      ]
     },
     "metadata": {
      "application/vnd.databricks.v1+output": {
       "addedWidgets": {},
       "aggData": [],
       "aggError": "",
       "aggOverflow": false,
       "aggSchema": [],
       "aggSeriesLimitReached": false,
       "aggType": "",
       "arguments": {},
       "columnCustomDisplayInfos": {},
       "data": [
        [
         30
        ]
       ],
       "datasetInfos": [],
       "dbfsResultPath": null,
       "isJsonSchema": true,
       "metadata": {},
       "overflow": false,
       "plotOptions": {
        "customPlotOptions": {},
        "displayType": "table",
        "pivotAggregation": null,
        "pivotColumns": null,
        "xColumns": null,
        "yColumns": null
       },
       "removedWidgets": [],
       "schema": [
        {
         "metadata": "{}",
         "name": "count",
         "type": "\"long\""
        }
       ],
       "type": "table"
      }
     },
     "output_type": "display_data"
    }
   ],
   "source": [
    "# Define the SQL query\n",
    "query = \"\"\"\n",
    "select count(distinct bookings.memid) as `count`\n",
    "from bookings\n",
    "\"\"\"\n",
    "\n",
    "# Execute the query\n",
    "df = spark.sql(query)\n",
    "display(df)"
   ]
  },
  {
   "cell_type": "markdown",
   "metadata": {
    "application/vnd.databricks.v1+cell": {
     "cellMetadata": {},
     "inputWidgets": {},
     "nuid": "3242aa4c-ee03-494e-823f-297da5f5b002",
     "showTitle": false,
     "title": ""
    }
   },
   "source": [
    "###Question 6\n",
    "Find the total number of members (including guests) who have made at least one booking.\n",
    "https://pgexercises.com/questions/aggregates/nbooking.html"
   ]
  },
  {
   "cell_type": "code",
   "execution_count": 0,
   "metadata": {
    "application/vnd.databricks.v1+cell": {
     "cellMetadata": {
      "byteLimit": 2048000,
      "rowLimit": 10000
     },
     "inputWidgets": {},
     "nuid": "53eca201-90dc-4aab-888e-7f97a711870e",
     "showTitle": false,
     "title": ""
    }
   },
   "outputs": [
    {
     "output_type": "display_data",
     "data": {
      "text/html": [
       "<style scoped>\n",
       "  .table-result-container {\n",
       "    max-height: 300px;\n",
       "    overflow: auto;\n",
       "  }\n",
       "  table, th, td {\n",
       "    border: 1px solid black;\n",
       "    border-collapse: collapse;\n",
       "  }\n",
       "  th, td {\n",
       "    padding: 5px;\n",
       "  }\n",
       "  th {\n",
       "    text-align: left;\n",
       "  }\n",
       "</style><div class='table-result-container'><table class='table-result'><thead style='background-color: white'><tr><th>surname</th><th>firstname</th><th>memid</th><th>starttime</th></tr></thead><tbody><tr><td>GUEST</td><td>GUEST</td><td>0</td><td>2012-09-01T08:00:00.000+0000</td></tr><tr><td>Smith</td><td>Darren</td><td>1</td><td>2012-09-01T09:00:00.000+0000</td></tr><tr><td>Owen</td><td>Charles</td><td>10</td><td>2012-09-01T11:00:00.000+0000</td></tr><tr><td>Jones</td><td>David</td><td>11</td><td>2012-09-01T09:30:00.000+0000</td></tr><tr><td>Baker</td><td>Anne</td><td>12</td><td>2012-09-01T14:30:00.000+0000</td></tr><tr><td>Farrell</td><td>Jemima</td><td>13</td><td>2012-09-01T09:30:00.000+0000</td></tr><tr><td>Smith</td><td>Jack</td><td>14</td><td>2012-09-01T11:00:00.000+0000</td></tr><tr><td>Bader</td><td>Florence</td><td>15</td><td>2012-09-01T10:30:00.000+0000</td></tr><tr><td>Baker</td><td>Timothy</td><td>16</td><td>2012-09-01T15:00:00.000+0000</td></tr><tr><td>Pinker</td><td>David</td><td>17</td><td>2012-09-01T08:30:00.000+0000</td></tr><tr><td>Smith</td><td>Tracy</td><td>2</td><td>2012-09-01T11:30:00.000+0000</td></tr><tr><td>Genting</td><td>Matthew</td><td>20</td><td>2012-09-01T18:00:00.000+0000</td></tr><tr><td>Mackenzie</td><td>Anna</td><td>21</td><td>2012-09-01T08:30:00.000+0000</td></tr><tr><td>Coplin</td><td>Joan</td><td>22</td><td>2012-09-02T11:30:00.000+0000</td></tr><tr><td>Sarwin</td><td>Ramnaresh</td><td>24</td><td>2012-09-04T11:00:00.000+0000</td></tr><tr><td>Jones</td><td>Douglas</td><td>26</td><td>2012-09-08T13:00:00.000+0000</td></tr><tr><td>Rumney</td><td>Henrietta</td><td>27</td><td>2012-09-16T13:30:00.000+0000</td></tr><tr><td>Farrell</td><td>David</td><td>28</td><td>2012-09-18T09:00:00.000+0000</td></tr><tr><td>Worthington-Smyth</td><td>Henry</td><td>29</td><td>2012-09-19T09:30:00.000+0000</td></tr><tr><td>Rownam</td><td>Tim</td><td>3</td><td>2012-09-01T16:00:00.000+0000</td></tr><tr><td>Purview</td><td>Millicent</td><td>30</td><td>2012-09-19T11:30:00.000+0000</td></tr><tr><td>Tupperware</td><td>Hyacinth</td><td>33</td><td>2012-09-20T08:00:00.000+0000</td></tr><tr><td>Hunt</td><td>John</td><td>35</td><td>2012-09-23T14:00:00.000+0000</td></tr><tr><td>Crumpet</td><td>Erica</td><td>36</td><td>2012-09-27T11:30:00.000+0000</td></tr><tr><td>Joplette</td><td>Janice</td><td>4</td><td>2012-09-01T15:00:00.000+0000</td></tr><tr><td>Butters</td><td>Gerald</td><td>5</td><td>2012-09-02T12:30:00.000+0000</td></tr><tr><td>Tracy</td><td>Burton</td><td>6</td><td>2012-09-01T15:00:00.000+0000</td></tr><tr><td>Dare</td><td>Nancy</td><td>7</td><td>2012-09-01T12:30:00.000+0000</td></tr><tr><td>Boothe</td><td>Tim</td><td>8</td><td>2012-09-01T08:30:00.000+0000</td></tr><tr><td>Stibbons</td><td>Ponder</td><td>9</td><td>2012-09-01T11:00:00.000+0000</td></tr></tbody></table></div>"
      ]
     },
     "metadata": {
      "application/vnd.databricks.v1+output": {
       "addedWidgets": {},
       "aggData": [],
       "aggError": "",
       "aggOverflow": false,
       "aggSchema": [],
       "aggSeriesLimitReached": false,
       "aggType": "",
       "arguments": {},
       "columnCustomDisplayInfos": {},
       "data": [
        [
         "GUEST",
         "GUEST",
         "0",
         "2012-09-01T08:00:00.000+0000"
        ],
        [
         "Smith",
         "Darren",
         "1",
         "2012-09-01T09:00:00.000+0000"
        ],
        [
         "Owen",
         "Charles",
         "10",
         "2012-09-01T11:00:00.000+0000"
        ],
        [
         "Jones",
         "David",
         "11",
         "2012-09-01T09:30:00.000+0000"
        ],
        [
         "Baker",
         "Anne",
         "12",
         "2012-09-01T14:30:00.000+0000"
        ],
        [
         "Farrell",
         "Jemima",
         "13",
         "2012-09-01T09:30:00.000+0000"
        ],
        [
         "Smith",
         "Jack",
         "14",
         "2012-09-01T11:00:00.000+0000"
        ],
        [
         "Bader",
         "Florence",
         "15",
         "2012-09-01T10:30:00.000+0000"
        ],
        [
         "Baker",
         "Timothy",
         "16",
         "2012-09-01T15:00:00.000+0000"
        ],
        [
         "Pinker",
         "David",
         "17",
         "2012-09-01T08:30:00.000+0000"
        ],
        [
         "Smith",
         "Tracy",
         "2",
         "2012-09-01T11:30:00.000+0000"
        ],
        [
         "Genting",
         "Matthew",
         "20",
         "2012-09-01T18:00:00.000+0000"
        ],
        [
         "Mackenzie",
         "Anna",
         "21",
         "2012-09-01T08:30:00.000+0000"
        ],
        [
         "Coplin",
         "Joan",
         "22",
         "2012-09-02T11:30:00.000+0000"
        ],
        [
         "Sarwin",
         "Ramnaresh",
         "24",
         "2012-09-04T11:00:00.000+0000"
        ],
        [
         "Jones",
         "Douglas",
         "26",
         "2012-09-08T13:00:00.000+0000"
        ],
        [
         "Rumney",
         "Henrietta",
         "27",
         "2012-09-16T13:30:00.000+0000"
        ],
        [
         "Farrell",
         "David",
         "28",
         "2012-09-18T09:00:00.000+0000"
        ],
        [
         "Worthington-Smyth",
         "Henry",
         "29",
         "2012-09-19T09:30:00.000+0000"
        ],
        [
         "Rownam",
         "Tim",
         "3",
         "2012-09-01T16:00:00.000+0000"
        ],
        [
         "Purview",
         "Millicent",
         "30",
         "2012-09-19T11:30:00.000+0000"
        ],
        [
         "Tupperware",
         "Hyacinth",
         "33",
         "2012-09-20T08:00:00.000+0000"
        ],
        [
         "Hunt",
         "John",
         "35",
         "2012-09-23T14:00:00.000+0000"
        ],
        [
         "Crumpet",
         "Erica",
         "36",
         "2012-09-27T11:30:00.000+0000"
        ],
        [
         "Joplette",
         "Janice",
         "4",
         "2012-09-01T15:00:00.000+0000"
        ],
        [
         "Butters",
         "Gerald",
         "5",
         "2012-09-02T12:30:00.000+0000"
        ],
        [
         "Tracy",
         "Burton",
         "6",
         "2012-09-01T15:00:00.000+0000"
        ],
        [
         "Dare",
         "Nancy",
         "7",
         "2012-09-01T12:30:00.000+0000"
        ],
        [
         "Boothe",
         "Tim",
         "8",
         "2012-09-01T08:30:00.000+0000"
        ],
        [
         "Stibbons",
         "Ponder",
         "9",
         "2012-09-01T11:00:00.000+0000"
        ]
       ],
       "datasetInfos": [],
       "dbfsResultPath": null,
       "isJsonSchema": true,
       "metadata": {},
       "overflow": false,
       "plotOptions": {
        "customPlotOptions": {},
        "displayType": "table",
        "pivotAggregation": null,
        "pivotColumns": null,
        "xColumns": null,
        "yColumns": null
       },
       "removedWidgets": [],
       "schema": [
        {
         "metadata": "{}",
         "name": "surname",
         "type": "\"string\""
        },
        {
         "metadata": "{}",
         "name": "firstname",
         "type": "\"string\""
        },
        {
         "metadata": "{}",
         "name": "memid",
         "type": "\"string\""
        },
        {
         "metadata": "{}",
         "name": "starttime",
         "type": "\"timestamp\""
        }
       ],
       "type": "table"
      }
     },
     "output_type": "display_data"
    }
   ],
   "source": [
    "query = \"\"\"\n",
    "select surname, firstname, members.memid, min(bookings.starttime) as starttime\n",
    "from members\n",
    "full join bookings\n",
    "on members.memid=bookings.memid\n",
    "where starttime>'2012-09-01'\n",
    "group by surname, firstname, members.memid\n",
    "order by members.memid\n",
    "\"\"\"\n",
    "\n",
    "# Execute the query\n",
    "df = spark.sql(query)\n",
    "display(df)"
   ]
  },
  {
   "cell_type": "markdown",
   "metadata": {
    "application/vnd.databricks.v1+cell": {
     "cellMetadata": {},
     "inputWidgets": {},
     "nuid": "f88f90a4-e52f-4af2-a832-c098269ec416",
     "showTitle": false,
     "title": ""
    }
   },
   "source": [
    "### String & Date\n",
    "### Question 1\n",
    "Output the names of all members, formatted as 'Surname, Firstname'\n",
    "\n",
    "https://pgexercises.com/questions/string/concat.html "
   ]
  },
  {
   "cell_type": "code",
   "execution_count": 0,
   "metadata": {
    "application/vnd.databricks.v1+cell": {
     "cellMetadata": {
      "byteLimit": 2048000,
      "rowLimit": 10000
     },
     "inputWidgets": {},
     "nuid": "63fd5ecb-7c24-4a15-a18f-9fe59449f096",
     "showTitle": false,
     "title": ""
    }
   },
   "outputs": [
    {
     "output_type": "display_data",
     "data": {
      "text/html": [
       "<style scoped>\n",
       "  .table-result-container {\n",
       "    max-height: 300px;\n",
       "    overflow: auto;\n",
       "  }\n",
       "  table, th, td {\n",
       "    border: 1px solid black;\n",
       "    border-collapse: collapse;\n",
       "  }\n",
       "  th, td {\n",
       "    padding: 5px;\n",
       "  }\n",
       "  th {\n",
       "    text-align: left;\n",
       "  }\n",
       "</style><div class='table-result-container'><table class='table-result'><thead style='background-color: white'><tr><th>name</th></tr></thead><tbody><tr><td>GUEST, GUEST</td></tr><tr><td>Smith, Darren</td></tr><tr><td>Smith, Tracy</td></tr><tr><td>Rownam, Tim</td></tr><tr><td>Joplette, Janice</td></tr><tr><td>Butters, Gerald</td></tr><tr><td>Tracy, Burton</td></tr><tr><td>Dare, Nancy</td></tr><tr><td>Boothe, Tim</td></tr><tr><td>Stibbons, Ponder</td></tr><tr><td>Owen, Charles</td></tr><tr><td>Jones, David</td></tr><tr><td>Baker, Anne</td></tr><tr><td>Farrell, Jemima</td></tr><tr><td>Smith, Jack</td></tr><tr><td>Bader, Florence</td></tr><tr><td>Baker, Timothy</td></tr><tr><td>Pinker, David</td></tr><tr><td>Genting, Matthew</td></tr><tr><td>Mackenzie, Anna</td></tr><tr><td>Coplin, Joan</td></tr><tr><td>Sarwin, Ramnaresh</td></tr><tr><td>Jones, Douglas</td></tr><tr><td>Rumney, Henrietta</td></tr><tr><td>Farrell, David</td></tr><tr><td>Worthington-Smyth, Henry</td></tr><tr><td>Purview, Millicent</td></tr><tr><td>Tupperware, Hyacinth</td></tr><tr><td>Hunt, John</td></tr><tr><td>Crumpet, Erica</td></tr><tr><td>Smith, Darren</td></tr></tbody></table></div>"
      ]
     },
     "metadata": {
      "application/vnd.databricks.v1+output": {
       "addedWidgets": {},
       "aggData": [],
       "aggError": "",
       "aggOverflow": false,
       "aggSchema": [],
       "aggSeriesLimitReached": false,
       "aggType": "",
       "arguments": {},
       "columnCustomDisplayInfos": {},
       "data": [
        [
         "GUEST, GUEST"
        ],
        [
         "Smith, Darren"
        ],
        [
         "Smith, Tracy"
        ],
        [
         "Rownam, Tim"
        ],
        [
         "Joplette, Janice"
        ],
        [
         "Butters, Gerald"
        ],
        [
         "Tracy, Burton"
        ],
        [
         "Dare, Nancy"
        ],
        [
         "Boothe, Tim"
        ],
        [
         "Stibbons, Ponder"
        ],
        [
         "Owen, Charles"
        ],
        [
         "Jones, David"
        ],
        [
         "Baker, Anne"
        ],
        [
         "Farrell, Jemima"
        ],
        [
         "Smith, Jack"
        ],
        [
         "Bader, Florence"
        ],
        [
         "Baker, Timothy"
        ],
        [
         "Pinker, David"
        ],
        [
         "Genting, Matthew"
        ],
        [
         "Mackenzie, Anna"
        ],
        [
         "Coplin, Joan"
        ],
        [
         "Sarwin, Ramnaresh"
        ],
        [
         "Jones, Douglas"
        ],
        [
         "Rumney, Henrietta"
        ],
        [
         "Farrell, David"
        ],
        [
         "Worthington-Smyth, Henry"
        ],
        [
         "Purview, Millicent"
        ],
        [
         "Tupperware, Hyacinth"
        ],
        [
         "Hunt, John"
        ],
        [
         "Crumpet, Erica"
        ],
        [
         "Smith, Darren"
        ]
       ],
       "datasetInfos": [],
       "dbfsResultPath": null,
       "isJsonSchema": true,
       "metadata": {},
       "overflow": false,
       "plotOptions": {
        "customPlotOptions": {},
        "displayType": "table",
        "pivotAggregation": null,
        "pivotColumns": null,
        "xColumns": null,
        "yColumns": null
       },
       "removedWidgets": [],
       "schema": [
        {
         "metadata": "{}",
         "name": "name",
         "type": "\"string\""
        }
       ],
       "type": "table"
      }
     },
     "output_type": "display_data"
    }
   ],
   "source": [
    "\n",
    "query = \"\"\"\n",
    "select surname || ', ' || firstname as name from members     \n",
    "\"\"\"\n",
    "\n",
    "# Execute the query\n",
    "df = spark.sql(query)\n",
    "display(df)"
   ]
  },
  {
   "cell_type": "markdown",
   "metadata": {
    "application/vnd.databricks.v1+cell": {
     "cellMetadata": {
      "byteLimit": 2048000,
      "rowLimit": 10000
     },
     "inputWidgets": {},
     "nuid": "efffe126-ac9a-4cb1-942f-3b6dc4e86527",
     "showTitle": false,
     "title": ""
    }
   },
   "source": [
    "### Question 2\n",
    "Perform a case-insensitive search to find all facilities whose name begins with 'tennis'. Retrieve all columns.\n",
    "https://pgexercises.com/questions/string/case.html "
   ]
  },
  {
   "cell_type": "code",
   "execution_count": 0,
   "metadata": {
    "application/vnd.databricks.v1+cell": {
     "cellMetadata": {
      "byteLimit": 2048000,
      "rowLimit": 10000
     },
     "inputWidgets": {},
     "nuid": "c5ac02f4-cbac-4d54-ae3a-61273012189c",
     "showTitle": false,
     "title": ""
    }
   },
   "outputs": [
    {
     "output_type": "display_data",
     "data": {
      "text/html": [
       "<style scoped>\n",
       "  .table-result-container {\n",
       "    max-height: 300px;\n",
       "    overflow: auto;\n",
       "  }\n",
       "  table, th, td {\n",
       "    border: 1px solid black;\n",
       "    border-collapse: collapse;\n",
       "  }\n",
       "  th, td {\n",
       "    padding: 5px;\n",
       "  }\n",
       "  th {\n",
       "    text-align: left;\n",
       "  }\n",
       "</style><div class='table-result-container'><table class='table-result'><thead style='background-color: white'><tr><th>facid</th><th>name</th><th>membercost</th><th>guestcost</th><th>initialoutlay</th><th>monthlymaintenance</th></tr></thead><tbody><tr><td>0</td><td>Tennis Court 1</td><td>5</td><td>25</td><td>10000</td><td>200</td></tr><tr><td>1</td><td>Tennis Court 2</td><td>5</td><td>25</td><td>8000</td><td>200</td></tr></tbody></table></div>"
      ]
     },
     "metadata": {
      "application/vnd.databricks.v1+output": {
       "addedWidgets": {},
       "aggData": [],
       "aggError": "",
       "aggOverflow": false,
       "aggSchema": [],
       "aggSeriesLimitReached": false,
       "aggType": "",
       "arguments": {},
       "columnCustomDisplayInfos": {},
       "data": [
        [
         "0",
         "Tennis Court 1",
         "5",
         "25",
         "10000",
         "200"
        ],
        [
         "1",
         "Tennis Court 2",
         "5",
         "25",
         "8000",
         "200"
        ]
       ],
       "datasetInfos": [],
       "dbfsResultPath": null,
       "isJsonSchema": true,
       "metadata": {},
       "overflow": false,
       "plotOptions": {
        "customPlotOptions": {},
        "displayType": "table",
        "pivotAggregation": null,
        "pivotColumns": null,
        "xColumns": null,
        "yColumns": null
       },
       "removedWidgets": [],
       "schema": [
        {
         "metadata": "{}",
         "name": "facid",
         "type": "\"string\""
        },
        {
         "metadata": "{}",
         "name": "name",
         "type": "\"string\""
        },
        {
         "metadata": "{}",
         "name": "membercost",
         "type": "\"string\""
        },
        {
         "metadata": "{}",
         "name": "guestcost",
         "type": "\"string\""
        },
        {
         "metadata": "{}",
         "name": "initialoutlay",
         "type": "\"string\""
        },
        {
         "metadata": "{}",
         "name": "monthlymaintenance",
         "type": "\"string\""
        }
       ],
       "type": "table"
      }
     },
     "output_type": "display_data"
    }
   ],
   "source": [
    "query = \"\"\"\n",
    "select * from facilities where upper(name) like 'TENNIS%'\n",
    "\"\"\"\n",
    "\n",
    "# Execute the query\n",
    "df = spark.sql(query)\n",
    "display(df)\n",
    "  "
   ]
  },
  {
   "cell_type": "markdown",
   "metadata": {
    "application/vnd.databricks.v1+cell": {
     "cellMetadata": {},
     "inputWidgets": {},
     "nuid": "74bbf1e3-57b2-414c-a9e4-e1de3e26fddc",
     "showTitle": false,
     "title": ""
    }
   },
   "source": [
    "### Question 3\n",
    "You've noticed that the club's member table has telephone numbers with very inconsistent formatting. You'd like to find all the telephone numbers that contain parentheses, returning the member ID and telephone number sorted by member ID.\n",
    "\n",
    "https://pgexercises.com/questions/string/reg.html "
   ]
  },
  {
   "cell_type": "code",
   "execution_count": 0,
   "metadata": {
    "application/vnd.databricks.v1+cell": {
     "cellMetadata": {
      "byteLimit": 2048000,
      "rowLimit": 10000
     },
     "inputWidgets": {},
     "nuid": "27e54daf-474a-47f0-9667-b71da53ada9d",
     "showTitle": false,
     "title": ""
    }
   },
   "outputs": [
    {
     "output_type": "display_data",
     "data": {
      "text/html": [
       "<style scoped>\n",
       "  .table-result-container {\n",
       "    max-height: 300px;\n",
       "    overflow: auto;\n",
       "  }\n",
       "  table, th, td {\n",
       "    border: 1px solid black;\n",
       "    border-collapse: collapse;\n",
       "  }\n",
       "  th, td {\n",
       "    padding: 5px;\n",
       "  }\n",
       "  th {\n",
       "    text-align: left;\n",
       "  }\n",
       "</style><div class='table-result-container'><table class='table-result'><thead style='background-color: white'><tr><th>memid</th><th>telephone</th></tr></thead><tbody><tr><td>0</td><td>(000) 000-0000</td></tr><tr><td>3</td><td>(844) 693-0723</td></tr><tr><td>4</td><td>(833) 942-4710</td></tr><tr><td>5</td><td>(844) 078-4130</td></tr><tr><td>6</td><td>(822) 354-9973</td></tr><tr><td>7</td><td>(833) 776-4001</td></tr><tr><td>8</td><td>(811) 433-2547</td></tr><tr><td>9</td><td>(833) 160-3900</td></tr><tr><td>10</td><td>(855) 542-5251</td></tr><tr><td>11</td><td>(844) 536-8036</td></tr><tr><td>13</td><td>(855) 016-0163</td></tr><tr><td>14</td><td>(822) 163-3254</td></tr><tr><td>15</td><td>(833) 499-3527</td></tr><tr><td>20</td><td>(811) 972-1377</td></tr><tr><td>21</td><td>(822) 661-2898</td></tr><tr><td>22</td><td>(822) 499-2232</td></tr><tr><td>24</td><td>(822) 413-1470</td></tr><tr><td>27</td><td>(822) 989-8876</td></tr><tr><td>28</td><td>(855) 755-9876</td></tr><tr><td>29</td><td>(855) 894-3758</td></tr><tr><td>30</td><td>(855) 941-9786</td></tr><tr><td>33</td><td>(822) 665-5327</td></tr><tr><td>35</td><td>(899) 720-6978</td></tr><tr><td>36</td><td>(811) 732-4816</td></tr><tr><td>37</td><td>(822) 577-3541</td></tr></tbody></table></div>"
      ]
     },
     "metadata": {
      "application/vnd.databricks.v1+output": {
       "addedWidgets": {},
       "aggData": [],
       "aggError": "",
       "aggOverflow": false,
       "aggSchema": [],
       "aggSeriesLimitReached": false,
       "aggType": "",
       "arguments": {},
       "columnCustomDisplayInfos": {},
       "data": [
        [
         "0",
         "(000) 000-0000"
        ],
        [
         "3",
         "(844) 693-0723"
        ],
        [
         "4",
         "(833) 942-4710"
        ],
        [
         "5",
         "(844) 078-4130"
        ],
        [
         "6",
         "(822) 354-9973"
        ],
        [
         "7",
         "(833) 776-4001"
        ],
        [
         "8",
         "(811) 433-2547"
        ],
        [
         "9",
         "(833) 160-3900"
        ],
        [
         "10",
         "(855) 542-5251"
        ],
        [
         "11",
         "(844) 536-8036"
        ],
        [
         "13",
         "(855) 016-0163"
        ],
        [
         "14",
         "(822) 163-3254"
        ],
        [
         "15",
         "(833) 499-3527"
        ],
        [
         "20",
         "(811) 972-1377"
        ],
        [
         "21",
         "(822) 661-2898"
        ],
        [
         "22",
         "(822) 499-2232"
        ],
        [
         "24",
         "(822) 413-1470"
        ],
        [
         "27",
         "(822) 989-8876"
        ],
        [
         "28",
         "(855) 755-9876"
        ],
        [
         "29",
         "(855) 894-3758"
        ],
        [
         "30",
         "(855) 941-9786"
        ],
        [
         "33",
         "(822) 665-5327"
        ],
        [
         "35",
         "(899) 720-6978"
        ],
        [
         "36",
         "(811) 732-4816"
        ],
        [
         "37",
         "(822) 577-3541"
        ]
       ],
       "datasetInfos": [],
       "dbfsResultPath": null,
       "isJsonSchema": true,
       "metadata": {},
       "overflow": false,
       "plotOptions": {
        "customPlotOptions": {},
        "displayType": "table",
        "pivotAggregation": null,
        "pivotColumns": null,
        "xColumns": null,
        "yColumns": null
       },
       "removedWidgets": [],
       "schema": [
        {
         "metadata": "{}",
         "name": "memid",
         "type": "\"string\""
        },
        {
         "metadata": "{}",
         "name": "telephone",
         "type": "\"string\""
        }
       ],
       "type": "table"
      }
     },
     "output_type": "display_data"
    }
   ],
   "source": [
    "query = \"\"\"\n",
    "select memid, telephone from members\n",
    "where telephone like '(%%%)%%%-%%%'\n",
    "\"\"\"\n",
    "\n",
    "# Execute the query\n",
    "df = spark.sql(query)\n",
    "display(df)"
   ]
  },
  {
   "cell_type": "markdown",
   "metadata": {
    "application/vnd.databricks.v1+cell": {
     "cellMetadata": {},
     "inputWidgets": {},
     "nuid": "994075aa-314e-456d-9b7d-e21d882df723",
     "showTitle": false,
     "title": ""
    }
   },
   "source": [
    "### Question 4\n",
    "You'd like to produce a count of how many members you have whose surname starts with each letter of the alphabet. Sort by the letter, and don't worry about printing out a letter if the count is 0.\n",
    "\n",
    "https://pgexercises.com/questions/string/substr.html \n",
    "\n",
    "\n"
   ]
  },
  {
   "cell_type": "code",
   "execution_count": 0,
   "metadata": {
    "application/vnd.databricks.v1+cell": {
     "cellMetadata": {
      "byteLimit": 2048000,
      "rowLimit": 10000
     },
     "inputWidgets": {},
     "nuid": "d1dd1d0d-940e-470d-ae5f-478b2b0e56e0",
     "showTitle": false,
     "title": ""
    }
   },
   "outputs": [
    {
     "output_type": "display_data",
     "data": {
      "text/html": [
       "<style scoped>\n",
       "  .table-result-container {\n",
       "    max-height: 300px;\n",
       "    overflow: auto;\n",
       "  }\n",
       "  table, th, td {\n",
       "    border: 1px solid black;\n",
       "    border-collapse: collapse;\n",
       "  }\n",
       "  th, td {\n",
       "    padding: 5px;\n",
       "  }\n",
       "  th {\n",
       "    text-align: left;\n",
       "  }\n",
       "</style><div class='table-result-container'><table class='table-result'><thead style='background-color: white'><tr><th>letter</th><th>count</th></tr></thead><tbody><tr><td>B</td><td>5</td></tr><tr><td>C</td><td>2</td></tr><tr><td>D</td><td>1</td></tr><tr><td>F</td><td>2</td></tr><tr><td>G</td><td>2</td></tr><tr><td>H</td><td>1</td></tr><tr><td>J</td><td>3</td></tr><tr><td>M</td><td>1</td></tr><tr><td>O</td><td>1</td></tr><tr><td>P</td><td>2</td></tr><tr><td>R</td><td>2</td></tr><tr><td>S</td><td>6</td></tr><tr><td>T</td><td>2</td></tr><tr><td>W</td><td>1</td></tr></tbody></table></div>"
      ]
     },
     "metadata": {
      "application/vnd.databricks.v1+output": {
       "addedWidgets": {},
       "aggData": [],
       "aggError": "",
       "aggOverflow": false,
       "aggSchema": [],
       "aggSeriesLimitReached": false,
       "aggType": "",
       "arguments": {},
       "columnCustomDisplayInfos": {},
       "data": [
        [
         "B",
         5
        ],
        [
         "C",
         2
        ],
        [
         "D",
         1
        ],
        [
         "F",
         2
        ],
        [
         "G",
         2
        ],
        [
         "H",
         1
        ],
        [
         "J",
         3
        ],
        [
         "M",
         1
        ],
        [
         "O",
         1
        ],
        [
         "P",
         2
        ],
        [
         "R",
         2
        ],
        [
         "S",
         6
        ],
        [
         "T",
         2
        ],
        [
         "W",
         1
        ]
       ],
       "datasetInfos": [],
       "dbfsResultPath": null,
       "isJsonSchema": true,
       "metadata": {},
       "overflow": false,
       "plotOptions": {
        "customPlotOptions": {},
        "displayType": "table",
        "pivotAggregation": null,
        "pivotColumns": null,
        "xColumns": null,
        "yColumns": null
       },
       "removedWidgets": [],
       "schema": [
        {
         "metadata": "{}",
         "name": "letter",
         "type": "\"string\""
        },
        {
         "metadata": "{}",
         "name": "count",
         "type": "\"long\""
        }
       ],
       "type": "table"
      }
     },
     "output_type": "display_data"
    }
   ],
   "source": [
    "query = \"\"\"\n",
    "select substr(surname, 1,1) as letter, count(*) as count\n",
    "from members\n",
    "group by letter\n",
    "order by letter\n",
    "\n",
    "\"\"\"\n",
    "\n",
    "# Execute the query\n",
    "df = spark.sql(query)\n",
    "display(df)"
   ]
  },
  {
   "cell_type": "markdown",
   "metadata": {
    "application/vnd.databricks.v1+cell": {
     "cellMetadata": {
      "byteLimit": 2048000,
      "rowLimit": 10000
     },
     "inputWidgets": {},
     "nuid": "e3e7e27b-452d-420f-819d-4b0a6e49584e",
     "showTitle": false,
     "title": ""
    }
   },
   "source": [
    "### Question 5\n",
    "Produce a list of all the dates in October 2012. They can be output as a timestamp (with time set to midnight) or a date.\n",
    "https://pgexercises.com/questions/date/series.html "
   ]
  },
  {
   "cell_type": "code",
   "execution_count": 0,
   "metadata": {
    "application/vnd.databricks.v1+cell": {
     "cellMetadata": {
      "byteLimit": 2048000,
      "rowLimit": 10000
     },
     "inputWidgets": {},
     "nuid": "eb381708-8d8d-40f3-9956-8f9fa0064a6d",
     "showTitle": false,
     "title": ""
    }
   },
   "outputs": [
    {
     "output_type": "stream",
     "name": "stdout",
     "output_type": "stream",
     "text": [
      "+----------+\n|date      |\n+----------+\n|2012-10-01|\n|2012-10-02|\n|2012-10-03|\n|2012-10-04|\n|2012-10-05|\n|2012-10-06|\n|2012-10-07|\n|2012-10-08|\n|2012-10-09|\n|2012-10-10|\n|2012-10-11|\n|2012-10-12|\n|2012-10-13|\n|2012-10-14|\n|2012-10-15|\n|2012-10-16|\n|2012-10-17|\n|2012-10-18|\n|2012-10-19|\n|2012-10-20|\n+----------+\nonly showing top 20 rows\n\n"
     ]
    }
   ],
   "source": [
    "from pyspark.sql import SparkSession\n",
    "from pyspark.sql.functions import sequence, to_date, explode\n",
    "from pyspark.sql.types import DateType\n",
    "from pyspark.sql.functions import lit\n",
    "\n",
    "# Initialize Spark session\n",
    "spark = SparkSession.builder.appName(\"OctoberDates\").getOrCreate()\n",
    "\n",
    "# Define the start and end date\n",
    "start_date = \"2012-10-01\"\n",
    "end_date = \"2012-10-31\"\n",
    "\n",
    "# Create a DataFrame with a single row, containing a date range as an array\n",
    "date_df = spark.createDataFrame([(start_date, end_date)], [\"start\", \"end\"])\n",
    "\n",
    "# Generate the sequence of dates and explode it into individual rows\n",
    "october_dates_df = date_df.select(explode(sequence(to_date(date_df.start), to_date(date_df.end))).alias(\"date\"))\n",
    "\n",
    "# Show the result\n",
    "october_dates_df.show(truncate=False)"
   ]
  },
  {
   "cell_type": "markdown",
   "metadata": {
    "application/vnd.databricks.v1+cell": {
     "cellMetadata": {},
     "inputWidgets": {},
     "nuid": "7d5e06f1-c62b-4e40-a282-3624e6caa4ca",
     "showTitle": false,
     "title": ""
    }
   },
   "source": [
    "### Question 5\n",
    "Return a count of bookings for each month, sorted by month\n",
    "https://pgexercises.com/questions/date/bookingspermonth.html"
   ]
  },
  {
   "cell_type": "code",
   "execution_count": 0,
   "metadata": {
    "application/vnd.databricks.v1+cell": {
     "cellMetadata": {
      "byteLimit": 2048000,
      "rowLimit": 10000
     },
     "inputWidgets": {},
     "nuid": "e2e897b4-322d-48de-8635-af06c283acd9",
     "showTitle": false,
     "title": ""
    }
   },
   "outputs": [
    {
     "output_type": "display_data",
     "data": {
      "text/html": [
       "<style scoped>\n",
       "  .table-result-container {\n",
       "    max-height: 300px;\n",
       "    overflow: auto;\n",
       "  }\n",
       "  table, th, td {\n",
       "    border: 1px solid black;\n",
       "    border-collapse: collapse;\n",
       "  }\n",
       "  th, td {\n",
       "    padding: 5px;\n",
       "  }\n",
       "  th {\n",
       "    text-align: left;\n",
       "  }\n",
       "</style><div class='table-result-container'><table class='table-result'><thead style='background-color: white'><tr><th>month</th><th>count(1)</th></tr></thead><tbody><tr><td>2012-07-01T00:00:00.000+0000</td><td>658</td></tr><tr><td>2012-08-01T00:00:00.000+0000</td><td>1472</td></tr><tr><td>2012-09-01T00:00:00.000+0000</td><td>1913</td></tr><tr><td>2013-01-01T00:00:00.000+0000</td><td>1</td></tr></tbody></table></div>"
      ]
     },
     "metadata": {
      "application/vnd.databricks.v1+output": {
       "addedWidgets": {},
       "aggData": [],
       "aggError": "",
       "aggOverflow": false,
       "aggSchema": [],
       "aggSeriesLimitReached": false,
       "aggType": "",
       "arguments": {},
       "columnCustomDisplayInfos": {},
       "data": [
        [
         "2012-07-01T00:00:00.000+0000",
         658
        ],
        [
         "2012-08-01T00:00:00.000+0000",
         1472
        ],
        [
         "2012-09-01T00:00:00.000+0000",
         1913
        ],
        [
         "2013-01-01T00:00:00.000+0000",
         1
        ]
       ],
       "datasetInfos": [],
       "dbfsResultPath": null,
       "isJsonSchema": true,
       "metadata": {},
       "overflow": false,
       "plotOptions": {
        "customPlotOptions": {},
        "displayType": "table",
        "pivotAggregation": null,
        "pivotColumns": null,
        "xColumns": null,
        "yColumns": null
       },
       "removedWidgets": [],
       "schema": [
        {
         "metadata": "{}",
         "name": "month",
         "type": "\"timestamp\""
        },
        {
         "metadata": "{\"__autoGeneratedAlias\":\"true\"}",
         "name": "count(1)",
         "type": "\"long\""
        }
       ],
       "type": "table"
      }
     },
     "output_type": "display_data"
    }
   ],
   "source": [
    "query = \"\"\"\n",
    "select date_trunc('month', starttime) as month, count(*)\n",
    "\tfrom bookings\n",
    "\tgroup by month\n",
    "\torder by month  \n",
    "\"\"\"\n",
    "\n",
    "# Execute the query\n",
    "df = spark.sql(query)\n",
    "display(df)"
   ]
  }
 ],
 "metadata": {
  "application/vnd.databricks.v1+notebook": {
   "dashboards": [],
   "environmentMetadata": null,
   "language": "python",
   "notebookMetadata": {
    "pythonIndentUnit": 4
   },
   "notebookName": "1 - Spark Dataframe Data Manipulation (pgexercises)",
   "widgets": {}
  }
 },
 "nbformat": 4,
 "nbformat_minor": 0
}
